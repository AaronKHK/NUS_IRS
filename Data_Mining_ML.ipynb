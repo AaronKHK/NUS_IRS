{
 "cells": [
  {
   "cell_type": "code",
   "execution_count": 1,
   "metadata": {},
   "outputs": [],
   "source": [
    "import pandas as pd\n",
    "import numpy as np\n",
    "import matplotlib.pyplot as plt\n",
    "import seaborn as sns\n",
    "import scipy.stats as stats\n",
    "import warnings\n",
    "warnings.filterwarnings('ignore')\n",
    "\n",
    "plt.style.use('fivethirtyeight')\n",
    "sns.set_style('whitegrid')\n",
    "\n",
    "%config InlineBackend.figure_format = 'retina'\n",
    "%matplotlib inline"
   ]
  },
  {
   "cell_type": "code",
   "execution_count": 2,
   "metadata": {},
   "outputs": [],
   "source": [
    "import statsmodels.formula.api as sm\n",
    "import patsy\n",
    "import itertools\n",
    "from sklearn.metrics import classification_report, confusion_matrix, accuracy_score, roc_curve, roc_auc_score, auc\n",
    "from sklearn.model_selection import cross_val_score, cross_val_predict, KFold, GridSearchCV,learning_curve\n",
    "from sklearn.model_selection import train_test_split, GridSearchCV, StratifiedKFold, StratifiedShuffleSplit\n",
    "from sklearn.linear_model import LogisticRegression, LogisticRegressionCV\n",
    "from sklearn.naive_bayes import MultinomialNB, BernoulliNB, GaussianNB\n",
    "from sklearn.preprocessing import StandardScaler\n",
    "from sklearn.feature_extraction.text import CountVectorizer, TfidfTransformer, TfidfVectorizer \n",
    "from sklearn.pipeline import Pipeline"
   ]
  },
  {
   "cell_type": "code",
   "execution_count": 3,
   "metadata": {},
   "outputs": [
    {
     "name": "stderr",
     "output_type": "stream",
     "text": [
      "[nltk_data] Downloading package stopwords to\n",
      "[nltk_data]     /Users/yesplum/nltk_data...\n",
      "[nltk_data]   Package stopwords is already up-to-date!\n"
     ]
    },
    {
     "data": {
      "text/plain": [
       "True"
      ]
     },
     "execution_count": 3,
     "metadata": {},
     "output_type": "execute_result"
    }
   ],
   "source": [
    "from sklearn.feature_extraction.text import CountVectorizer, TfidfVectorizer\n",
    "from sklearn.feature_extraction import stop_words\n",
    "from nltk.corpus import stopwords\n",
    "import nltk\n",
    "nltk.download('stopwords')"
   ]
  },
  {
   "cell_type": "code",
   "execution_count": 213,
   "metadata": {},
   "outputs": [
    {
     "name": "stdout",
     "output_type": "stream",
     "text": [
      "['DS_27Mar2020a.csv', 'DS_27Mar2020b.csv', 'ML_27Mar2020b.csv', 'ML_27Mar2020a.csv', 'AI_26Mar2020.csv']\n"
     ]
    }
   ],
   "source": [
    "import glob, os     \n",
    "extension = 'csv' \n",
    "all_filenames = [i for i in glob.glob('*.{}'.format(extension))] \n",
    "print(all_filenames)\n",
    "\n",
    "#combine all files in the list \n",
    "\n",
    "df_raw = pd.concat([pd.read_csv(f, encoding='unicode escape',skiprows=0) for f in all_filenames ]) \n",
    "df_raw.reset_index(inplace=True) \n",
    "df_raw = df_raw.drop(columns=['index','Unnamed: 0']) "
   ]
  },
  {
   "cell_type": "code",
   "execution_count": 214,
   "metadata": {},
   "outputs": [
    {
     "data": {
      "text/plain": [
       "(1091, 11)"
      ]
     },
     "execution_count": 214,
     "metadata": {},
     "output_type": "execute_result"
    }
   ],
   "source": [
    "df_raw.shape"
   ]
  },
  {
   "cell_type": "code",
   "execution_count": 239,
   "metadata": {},
   "outputs": [],
   "source": [
    "def data_clean(df):\n",
    "    \n",
    "    #remove duplicate based on Job ID\n",
    "    job_clean = df_raw.drop_duplicates(subset='Job_Id', keep='first')\n",
    "    #drop Salary_Type due to only one unique value 'Monthly'\n",
    "    job_clean = job_clean.drop(columns='Salary_Type')\n",
    "    #remove job without title\n",
    "    job_no_title = job_clean['Job_Title'] == ''\n",
    "    job_clean = job_clean[~job_no_title]\n",
    "    #remove row with all NaN value\n",
    "    job_clean[job_clean.isnull().any(axis=1)]\n",
    "    job_clean = job_clean.dropna()\n",
    "    \n",
    "    #perform data cleaning on every row and columms\n",
    "    clean_list = \"(\\[|\\]|b'|Requirements|'|amp;|xa0|\\\\\\|xe2x80x93|\\\\n|div class=|div class=|span class=|dib|lh-solid|/span|f5-5 i fw4 gray|f5 fw4 ph1|<|>|/div|\\\")\"\n",
    "    for col in job_clean.columns.difference(['Requirements']):\n",
    "        job_clean[col]=job_clean[col].str.replace(clean_list, \"\")\n",
    "\n",
    "    #space remain for Requirements column    \n",
    "    job_clean['Requirements']=job_clean['Requirements'].str.replace(clean_list, \" \")\n",
    "\n",
    "    clean_list2 = \"(Ã¢Â€Â|Ã¢Â€Âœ|Ã¢Â€Â™|ïƒ¼ Â|ïƒ¨|ïƒ¼|Â Â Â Â Â|Â|â€“|â€™|â€œâ€|Â|Ã¢Â€Â™️)\"\n",
    "    job_clean['Requirements']=job_clean['Requirements'].str.replace(clean_list2, \"\")\n",
    "    \n",
    "    #further remove job with same data from all columns\n",
    "    job_clean = job_clean.drop_duplicates(subset=job_clean.columns, keep='first') \n",
    "    \n",
    "    \n",
    "    #further filter on job title with specific keywords\n",
    "    title_key = ['DATA', 'MACHINE','ANALYST','MACHINE LEARNING','ANALYTICS', \"SCIENCE\", '4.0','APPLICATION'\n",
    "             'DEEP LEARNING','RESEARCH','NLP', 'ARTIFICIAL', \"INTELLIGENT\", 'AI', 'SCIENTIST','SYSTEM'\n",
    "             'Industry', 'IOT', 'FINANCE', 'FINTECH', 'SOFTWARE', 'ENGINEER', 'ENGINEERING','PROFESSOR'\n",
    "             'BUSINESS', 'DEVELOPER', 'INDUSTRIAL','AUTOMATION', 'CLOUD','SOLUTION','ARCHITECT',\n",
    "             'MANAGER','VP','PRESIDENT', 'TECHNOLOGY', 'SPECIALIST', 'TECHNICAL','LEAD','TECHNOLOGIST']\n",
    "    key = '|'.join(title_key)\n",
    "    data_job = job_clean['Job_Title'].str.upper().str.contains(key)\n",
    "    job_clean = job_clean[data_job]\n",
    "\n",
    "    #remove job title with unwanted keywords\n",
    "    title_key = ['PHYSIOTHERAPIST','ACCOUNT','AUDIT','COUNSEL','EXECUTIVE','SALES','GENERAL','MARKET',\n",
    "                 'ELECTRICAL','BUSINESS','ADMIN','CUSTOMER','OFFICER','OPERATION', 'MECHANICAL','CHEMICAL',\n",
    "                 'COORDINATOR','LECTURER','TECHNICIAN']\n",
    "    key = '|'.join(title_key)\n",
    "    non_data_job = job_clean['Job_Title'].str.upper().str.contains(key)\n",
    "    job_clean = job_clean[~non_data_job]\n",
    "    \n",
    "    #remove job with multiple category\n",
    "    cat_list = \"(/|and)\"\n",
    "    job_clean['Category']=job_clean['Category'].str.replace(cat_list, \",\")\n",
    "    job_clean['Cat_num'] = job_clean['Category'].str.count(',')\n",
    "    \n",
    "    multiple_cat = job_clean['Cat_num']>5\n",
    "    job_clean = job_clean[~multiple_cat]\n",
    "    job_clean = job_clean.drop(columns='Cat_num')\n",
    "    \n",
    "    #remove job with no or multiple seniority\n",
    "    senior_rule = (job_clean['Seniority'].str.count(',')>=1) | (job_clean['Seniority']=='')\n",
    "    job_clean = job_clean[~senior_rule]\n",
    "\n",
    "    \n",
    "    #remove job cat with specific keywords\n",
    "    rare_cat_key = ['HUMAN','SOCIAL','THERAPY','TAXATION','CUSTOMER','INTERIOR', 'ADMIN','BUILDING',\n",
    "                    'SECRETARIAL','INVESTIGATION', 'AUDITING', 'ENVIRONMENT','SALES', 'MARKETING',\n",
    "                    'ADVERTISING','CONSTRUCTION', 'DESIGN','LEGAL','HOSPITALITY','PROFESSIONAL']\n",
    "    key = '|'.join(rare_cat_key)\n",
    "    rare_cat = job_clean['Category'].str.upper().str.contains(key)\n",
    "    job_clean = job_clean[~rare_cat]\n",
    "    \n",
    "    #remove row without salary\n",
    "    no_salary = job_clean['Salary_Range'].str.contains('Salary undisclosed')\n",
    "    df_salary = job_clean[~no_salary]\n",
    "    df_no_salary = job_clean[no_salary]\n",
    "    df_salary = df_salary.reset_index(drop=True)\n",
    "    \n",
    "    req_empty = []\n",
    "\n",
    "    for i in range (len(df_salary)):\n",
    "    \n",
    "        if((len(df_salary['Requirements'][i]))<5):\n",
    "            req_empty.append(i)\n",
    "           \n",
    "    #clean & remove row without requirements\n",
    "    df_salary['Requirements']=df_salary['Requirements'].str.replace('(\\n)', \"\")\n",
    "    df_salary = df_salary.drop(req_empty)\n",
    "    df_salary = df_salary.reset_index(drop=True)\n",
    "\n",
    "    return df_salary"
   ]
  },
  {
   "cell_type": "code",
   "execution_count": 240,
   "metadata": {},
   "outputs": [
    {
     "data": {
      "text/plain": [
       "(458, 10)"
      ]
     },
     "execution_count": 240,
     "metadata": {},
     "output_type": "execute_result"
    }
   ],
   "source": [
    "df = data_clean(df_raw)\n",
    "df.shape"
   ]
  },
  {
   "cell_type": "code",
   "execution_count": 241,
   "metadata": {},
   "outputs": [],
   "source": [
    "def salary_feature(df):\n",
    "    \n",
    "    #extract salary columns due to contain multiple information\n",
    "    salary_range = df[\"Salary_Range\"].str.split(\"to\", n = 2, expand = True) \n",
    "\n",
    "    #Give columns name to the dataframe\n",
    "    salary_range = salary_range.rename({0:'Min_Salary',1:'Max_Salary'}, axis='columns')\n",
    "\n",
    "    #removed $ and , from salary \n",
    "    for col in salary_range.columns:\n",
    "        salary_range[col]=salary_range[col].str.replace('(\\$|,)', '')\n",
    "\n",
    "    #convert from ojbect to float for statistical infomation\n",
    "    salary_range['Min_Salary'] = salary_range['Min_Salary'].astype('float64')\n",
    "    salary_range['Max_Salary'] = salary_range['Max_Salary'].astype('float64')\n",
    "    \n",
    "    #concat min_max salary dataframe with salary range dataframe\n",
    "    df_salary1 = pd.concat([df, salary_range], axis=1)\n",
    "    df_salary1 = df_salary1.drop(columns='Salary_Range')  \n",
    "    \n",
    "    #create a condition to check for high outliers\n",
    "    abovemean_min = round(10*np.mean(df_salary1['Min_Salary']),0)\n",
    "    abovemean_max = round(10*np.mean(df_salary1['Max_Salary']),0)\n",
    "    \n",
    "    #convert yearly salary into monthly salary\n",
    "\n",
    "    df_salary1['Min_Salary'] = np.where((df_salary1['Min_Salary'] > abovemean_min),\n",
    "                                    round((df_salary1['Min_Salary']/12),0), df_salary1['Min_Salary'])\n",
    "\n",
    "    df_salary1['Max_Salary'] = np.where((df_salary1['Max_Salary'] > abovemean_min),\n",
    "                                    round((df_salary1['Max_Salary']/12),0), df_salary1['Max_Salary'])\n",
    "    \n",
    "    #drop unrealistic min and max monthly salary range (which is more than 10 times)\n",
    "    min_max_abnormal = (df_salary1['Max_Salary']>10*df_salary1['Min_Salary'])\n",
    "    df_salary1 = df_salary1[~min_max_abnormal]\n",
    "    \n",
    "    #drop job with max salary less than 2500, assuming data entry/admin/operator job\n",
    "    low_sal = ((df_salary1['Min_Salary']<=1800) | (df_salary1['Max_Salary']<=2500))\n",
    "    df_salary1 = df_salary1[~low_sal]\n",
    "    \n",
    "    #create new feature for average salary\n",
    "    df_salary1['Avg_Salary'] = (df_salary1['Min_Salary'] + df_salary1['Max_Salary']) / 2\n",
    "    \n",
    "    #drop job with outlier salary\n",
    "    salary_outlier = ((df_salary1['Avg_Salary']>20000) | (df_salary1['Avg_Salary']<3000))\n",
    "    df_salary1 = df_salary1[~salary_outlier]\n",
    "    \n",
    "    #bin salary into 4 groups:\n",
    "    #3000 to 5500 - Low\n",
    "    #5500 to 8000 - Med\n",
    "    #8000 and above - High\n",
    "\n",
    "    bins = [3000, 5500, 8000, np.inf]\n",
    "    names = ['Low', 'Med', 'High']\n",
    "\n",
    "    df_salary1['Salary_range'] = pd.cut(df_salary1['Avg_Salary'], bins, labels=names)\n",
    "    df_salary1 = df_salary1.reset_index(drop=True)\n",
    "    \n",
    "    return df_salary1"
   ]
  },
  {
   "cell_type": "code",
   "execution_count": 242,
   "metadata": {},
   "outputs": [
    {
     "data": {
      "text/plain": [
       "(457, 13)"
      ]
     },
     "execution_count": 242,
     "metadata": {},
     "output_type": "execute_result"
    }
   ],
   "source": [
    "df1 = salary_feature(df)\n",
    "df1.shape"
   ]
  },
  {
   "cell_type": "code",
   "execution_count": 243,
   "metadata": {},
   "outputs": [],
   "source": [
    "def emp_type(df):\n",
    "\n",
    "    \n",
    "    #remove others employment type\n",
    "    type_key = ['PART TIME','TEMPORARY','INTERNSHIP','FLEXI','FREELANCE']\n",
    "    key = '|'.join(type_key)\n",
    "    non_type = df['Emp_Type'].str.upper().str.contains(key)\n",
    "    df = df[~non_type]\n",
    "    df = df.reset_index(drop=True)\n",
    "\n",
    "    #consolidate employment type\n",
    "    consolidate = \"(Full Time|Permanent, Full Time)\"\n",
    "    df['Emp_Type']=df['Emp_Type'].str.replace(consolidate, \"Permanent\")\n",
    "\n",
    "    consolidate = \"(Contract, Full Time)\"\n",
    "    df['Emp_Type']=df['Emp_Type'].str.replace(consolidate, \"Contract\")\n",
    "\n",
    "    consolidate = \"(Contract, Permanent, Full Time)\"\n",
    "    df['Emp_Type']=df['Emp_Type'].str.replace(consolidate, \"Cont_Perm\")\n",
    "    \n",
    "    return df"
   ]
  },
  {
   "cell_type": "code",
   "execution_count": 244,
   "metadata": {},
   "outputs": [
    {
     "data": {
      "text/plain": [
       "(453, 13)"
      ]
     },
     "execution_count": 244,
     "metadata": {},
     "output_type": "execute_result"
    }
   ],
   "source": [
    "df1 = emp_type(df1)\n",
    "df1.shape"
   ]
  },
  {
   "cell_type": "code",
   "execution_count": 245,
   "metadata": {},
   "outputs": [],
   "source": [
    "def seniority(df):\n",
    "    \n",
    "    #consolidate seniority from 9 groups to 4 groups\n",
    "    \n",
    "    df['Seniority'] = np.where((df['Seniority'] == 'Fresh/entry level') | (df['Seniority'] == 'Non-executive') | (df['Seniority'] == 'Junior Executive'),\n",
    "                                 'Jr Executive', df['Seniority'])\n",
    "\n",
    "    df['Seniority'] = np.where((df['Seniority'] == 'Executive') | (df['Seniority'] == 'Senior Executive'),\n",
    "                                 'Sr Executive', df['Seniority'])\n",
    "\n",
    "    df['Seniority'] = np.where((df['Seniority'] == 'Manager') | (df['Seniority'] == 'Middle Management') | (df['Seniority'] == 'Senior Management'),\n",
    "                                 'Management', df['Seniority'])\n",
    "    \n",
    "    return df"
   ]
  },
  {
   "cell_type": "code",
   "execution_count": 246,
   "metadata": {},
   "outputs": [
    {
     "data": {
      "text/plain": [
       "(453, 13)"
      ]
     },
     "execution_count": 246,
     "metadata": {},
     "output_type": "execute_result"
    }
   ],
   "source": [
    "df1 = seniority(df1)\n",
    "df1.shape"
   ]
  },
  {
   "cell_type": "code",
   "execution_count": 247,
   "metadata": {},
   "outputs": [],
   "source": [
    "def cat_name(df):\n",
    "    \n",
    "    stacked = pd.DataFrame(df['Category'].str.split(',').tolist()).stack()\n",
    "    cat_count = pd.DataFrame(stacked.value_counts(), columns=['Count']).reset_index()\n",
    "    cat_count1 = []\n",
    "\n",
    "    for i in range (len(cat_count)):\n",
    "        cat_count1.append(cat_count['index'][i].lstrip())\n",
    "    \n",
    "    cat_name = list(dict.fromkeys(cat_count1))\n",
    "    return cat_name"
   ]
  },
  {
   "cell_type": "code",
   "execution_count": 248,
   "metadata": {},
   "outputs": [
    {
     "name": "stdout",
     "output_type": "stream",
     "text": [
      "['R&D', 'Laboratory ', 'Information Technology', 'Sciences ', 'Engineering', 'Finance', 'Banking ', 'Civil Service', 'Public ', 'Consulting', 'Telecommunications', 'Others', 'Manufacturing', 'Education ', 'Pharmaceutical', 'Healthcare ', 'Training', 'Insurance', 'General Management', 'Risk Management', 'Logistics ', 'Supply Chain']\n"
     ]
    }
   ],
   "source": [
    "print(cat_name(df1))"
   ]
  },
  {
   "cell_type": "code",
   "execution_count": 249,
   "metadata": {},
   "outputs": [],
   "source": [
    "def clean_kie(df):\n",
    "\n",
    "    #extract only number from string\n",
    "    df['Year_Experience'] = df['Year_Experience'].str.extract('(\\d+)')\n",
    "    \n",
    "    #remove comma from cell with string\n",
    "    clean_list = \"(,|;|â||¦|®|)\"\n",
    "    for col in df.columns.difference(['Year_Experience','Min_Salary','Max_Salary','Avg_Salary']):\n",
    "        df[col]=df[col].str.replace(clean_list, \"\")\n",
    "        \n",
    "    #remove extra whitespace between string\n",
    "    df = df.apply(lambda x: x.str.strip() if x.dtype == \"object\" else x)\n",
    "    \n",
    "    #fill NaN in year of experience with 0\n",
    "    df['Year_Experience'] = df['Year_Experience'].fillna(0)\n",
    "    return df"
   ]
  },
  {
   "cell_type": "code",
   "execution_count": 298,
   "metadata": {},
   "outputs": [
    {
     "name": "stdout",
     "output_type": "stream",
     "text": [
      "(453, 13)\n"
     ]
    },
    {
     "data": {
      "text/html": [
       "<div>\n",
       "<style scoped>\n",
       "    .dataframe tbody tr th:only-of-type {\n",
       "        vertical-align: middle;\n",
       "    }\n",
       "\n",
       "    .dataframe tbody tr th {\n",
       "        vertical-align: top;\n",
       "    }\n",
       "\n",
       "    .dataframe thead th {\n",
       "        text-align: right;\n",
       "    }\n",
       "</style>\n",
       "<table border=\"1\" class=\"dataframe\">\n",
       "  <thead>\n",
       "    <tr style=\"text-align: right;\">\n",
       "      <th></th>\n",
       "      <th>Job_Id</th>\n",
       "      <th>Emp_Type</th>\n",
       "      <th>Job_Title</th>\n",
       "      <th>Company</th>\n",
       "      <th>Date_Posted</th>\n",
       "      <th>Year_Experience</th>\n",
       "      <th>Seniority</th>\n",
       "      <th>Category</th>\n",
       "      <th>Requirements</th>\n",
       "      <th>Min_Salary</th>\n",
       "      <th>Max_Salary</th>\n",
       "      <th>Avg_Salary</th>\n",
       "      <th>Salary_range</th>\n",
       "    </tr>\n",
       "  </thead>\n",
       "  <tbody>\n",
       "    <tr>\n",
       "      <th>0</th>\n",
       "      <td>MCF-2020-0045240</td>\n",
       "      <td>Contract Permanent</td>\n",
       "      <td>Scientist (Machine Intellection) I2R</td>\n",
       "      <td>A*STAR RESEARCH ENTITIES</td>\n",
       "      <td>Posted 27 Mar 2020</td>\n",
       "      <td>0</td>\n",
       "      <td>Professional</td>\n",
       "      <td>Sciences  Laboratory  R&amp;D</td>\n",
       "      <td>Developing enhancing automating and managing a...</td>\n",
       "      <td>4500.0</td>\n",
       "      <td>9000.0</td>\n",
       "      <td>6750.0</td>\n",
       "      <td>Med</td>\n",
       "    </tr>\n",
       "    <tr>\n",
       "      <th>1</th>\n",
       "      <td>MCF-2020-0045289</td>\n",
       "      <td>Contract Permanent</td>\n",
       "      <td>Scientist (Machine Intellection) I2R</td>\n",
       "      <td>A*STAR RESEARCH ENTITIES</td>\n",
       "      <td>Posted 27 Mar 2020</td>\n",
       "      <td>0</td>\n",
       "      <td>Professional</td>\n",
       "      <td>Sciences  Laboratory  R&amp;D</td>\n",
       "      <td>Protein nodes discovering in cancer Biomarker ...</td>\n",
       "      <td>4500.0</td>\n",
       "      <td>9000.0</td>\n",
       "      <td>6750.0</td>\n",
       "      <td>Med</td>\n",
       "    </tr>\n",
       "  </tbody>\n",
       "</table>\n",
       "</div>"
      ],
      "text/plain": [
       "             Job_Id            Emp_Type                             Job_Title  \\\n",
       "0  MCF-2020-0045240  Contract Permanent  Scientist (Machine Intellection) I2R   \n",
       "1  MCF-2020-0045289  Contract Permanent  Scientist (Machine Intellection) I2R   \n",
       "\n",
       "                    Company         Date_Posted Year_Experience     Seniority  \\\n",
       "0  A*STAR RESEARCH ENTITIES  Posted 27 Mar 2020               0  Professional   \n",
       "1  A*STAR RESEARCH ENTITIES  Posted 27 Mar 2020               0  Professional   \n",
       "\n",
       "                    Category  \\\n",
       "0  Sciences  Laboratory  R&D   \n",
       "1  Sciences  Laboratory  R&D   \n",
       "\n",
       "                                        Requirements  Min_Salary  Max_Salary  \\\n",
       "0  Developing enhancing automating and managing a...      4500.0      9000.0   \n",
       "1  Protein nodes discovering in cancer Biomarker ...      4500.0      9000.0   \n",
       "\n",
       "   Avg_Salary Salary_range  \n",
       "0      6750.0          Med  \n",
       "1      6750.0          Med  "
      ]
     },
     "execution_count": 298,
     "metadata": {},
     "output_type": "execute_result"
    }
   ],
   "source": [
    "df_clean = clean_kie(df1)\n",
    "print(df_clean.shape)\n",
    "df_clean.head(2)"
   ]
  },
  {
   "cell_type": "code",
   "execution_count": 299,
   "metadata": {},
   "outputs": [],
   "source": [
    "#word count function\n",
    "def word_count(df_col):\n",
    "\n",
    "    str_counts = 0\n",
    "    sum_str = 0\n",
    "\n",
    "    for i in range (len(df_col)):    \n",
    "        str_counts = len(df_col[i].split())\n",
    "        sum_str = sum_str + str_counts\n",
    "\n",
    "    print(sum_str)"
   ]
  },
  {
   "cell_type": "code",
   "execution_count": 300,
   "metadata": {},
   "outputs": [
    {
     "name": "stdout",
     "output_type": "stream",
     "text": [
      "78351\n"
     ]
    }
   ],
   "source": [
    "#number of word found in Requirements column before clean\n",
    "word_count(df_clean['Requirements'])"
   ]
  },
  {
   "cell_type": "code",
   "execution_count": 301,
   "metadata": {},
   "outputs": [],
   "source": [
    "def freq_words(word_count, features):\n",
    "\n",
    "    num_word = np.asarray(word_count.sum(axis=0)).reshape(-1)\n",
    "    most_count = num_word.argsort()[::-1]\n",
    "    key_word = pd.Series(num_word[most_count], \n",
    "                           index=features[most_count])\n",
    "\n",
    "    return key_word"
   ]
  },
  {
   "cell_type": "code",
   "execution_count": 302,
   "metadata": {},
   "outputs": [],
   "source": [
    "def stop_word_fil(df):\n",
    "    \n",
    "    #stop words were added to filter some generic recurring business terms.\n",
    "    stop = stopwords.words('english')\n",
    "    stop += ['regret','shortlisted', 'candidates','notified','etc', 'take', 'hands','added','able','writting',\n",
    "             'year','years','least', 'related','using', 'and', 'ability','work','skills','advantage','written'\n",
    "            'develop','good','team','design','knowledge','experience','following','areas', 'ability','and','in','to']\n",
    "    \n",
    "    #most common words for requirements\n",
    "    cvt = CountVectorizer(lowercase=True, strip_accents='unicode',max_features=80000, min_df=1, max_df=0.9,\n",
    "                          stop_words=stop, ngram_range=(1,2))\n",
    "    vect_word = cvt.fit_transform(df['Requirements'])\n",
    "    features = np.array(cvt.get_feature_names()) \n",
    "\n",
    "    key_word = freq_words(vect_word, features)\n",
    "    \n",
    "    #update stop_word with common words\n",
    "    new_stop = key_word[key_word<5].index\n",
    "    stop.extend(new_stop)\n",
    "    \n",
    "    pat = r'\\b(?:{})\\b'.format('|'.join(stop))\n",
    "    df['Requirements'] = df['Requirements'].str.replace(pat, \" \")\n",
    "    df['Requirements'] = df['Requirements'].map(lambda x: x.strip())\n",
    "    df['Requirements'] = df['Requirements'].replace({' +':\" \"},regex=True)\n",
    "    \n",
    "    return df"
   ]
  },
  {
   "cell_type": "code",
   "execution_count": 303,
   "metadata": {},
   "outputs": [
    {
     "name": "stdout",
     "output_type": "stream",
     "text": [
      "39378\n"
     ]
    }
   ],
   "source": [
    "data_df = stop_word_fil(df_clean)\n",
    "\n",
    "#number of word found in Requirements column after clean\n",
    "word_count(data_df['Requirements'])"
   ]
  },
  {
   "cell_type": "code",
   "execution_count": 307,
   "metadata": {},
   "outputs": [],
   "source": [
    "data_df.to_csv('JOB_DATA_v10.csv', index=False, encoding='utf-8')"
   ]
  },
  {
   "cell_type": "code",
   "execution_count": 304,
   "metadata": {},
   "outputs": [],
   "source": [
    "data_df2 = data_df.copy()"
   ]
  },
  {
   "cell_type": "code",
   "execution_count": 305,
   "metadata": {},
   "outputs": [],
   "source": [
    "def isEnglish(s):\n",
    "    try:\n",
    "        s.encode(encoding='utf-8').decode('ascii')\n",
    "    except UnicodeDecodeError:\n",
    "        return False\n",
    "    else:\n",
    "        return True"
   ]
  },
  {
   "cell_type": "code",
   "execution_count": 306,
   "metadata": {},
   "outputs": [
    {
     "name": "stdout",
     "output_type": "stream",
     "text": [
      "You   lead designing processes   analyse structured unstructured data   sources insights Collaborate   services subject matter experts (SMEs) drive   analytical You   enable ensuring   applying data science  artificial intelligence Identify  new data sources multiple   findings analysis   experiments IBM teams stakeholders Develop models analysis across range Quote Cash functions Design   tracking actions   analyse impact business outcomes implementation   deployment analytics Design efficient Spark Monitor Spark cluster performance A  Degree quantitative field (Statistics Mathematics Operations  Research Economics Bioinformatics Computer Science ). A   research quantitative field  plus. 3-5 working data sets models Strong statistical Excellent  understanding machine learning techniques algorithms  Logistic Regression Decision Trees Random Forrest Support Vector  Machines Clustering Expertise   various data ( .e. CRISP-DM  & engineering well  evaluation validation) Experience   libraries R Python  (NumPy Pandas Scikit) SQL noSQL Scala Weka MatLab Experience data visualization techniques tools Cognos Analytics Tableau Plotly Familiarity   data science limited IBM  Cloud products (e.g. Watson Assistant Watson Studio Bluemix ) Knowledge data mining data Great communication (oral written) strong player Ability learn fast- Ability problems Experience NoSQL databases Cloudant MongoDB Cassandra HBase Experience distributed like Hadoop stack Spark Pig Hive . Experience working Linux scripting languages Bash Experience Deep Learning frameworks TensorFlow Caffe CNTK Torch DL4J 3\n",
      "Develop architecture IIoT data ingestion processing solutions. Provide customers data analytics intelligence. Engineer infrastructure big- real- detection . Background computer science engineering. Ability data       . Deep predictive data analytics. Industry data science -structured non- . Good Python . Additional JavaScript REST Java .net plus. Good understanding software development life cycle requirements      testing deployment. Sound Machine Learning (ML) building Deep Learning (DL) models plus. Experience plus. Exposure Big eg. Cassandra Hadoop Apache Spark. Previous exposure IaaS platforms Azure Google AWS. 4\n",
      "Data mining data documents identify patterns Design intelligence (AI) machine learning (ML) engines - experiments Application AI ML information retrieval (IR) Conduct   research apply state- - - scale real Documentation Mentoring PhD computer science Minimum 5 software development Experience background AI ML data science Passionate AI- applications Proficient one programming languages (e.g. Python C/C++ .) /modules Experience large- processing analytics Good publication 5\n",
      "Design language processing (NLP) algorithms models analysis e.g. - resolution Application NLP information retrieval (IR) Conduct   research apply state- - - scale real Documentation Mentoring PhD computer science Minimum 5 software development Experience background NLP Passionate NLP AI applications Proficient one programming languages (e.g. Python C/C++ .) /modules Experience large- processing analytics Good publication 7\n",
      "Drive across Whole- -Government Data Science Develop software methodologies best practices Data Science & AI landscape Forge efforts Collaborate organisations engage Data Science & AI community Data Science- Strategize maintain Data Science & AI tools Whole- -Government Manage aspects  limited  execution Degree Diploma Computer Science Information Technology equivalent Minimum 3 relevant IT consulting/project management business analytics Experience working large-scale projects aspects planning stakeholder management Good understanding Confident group Strong understanding Data Science & AI Big Data architecture Excellent English language oral written Comfortable independently Knowledge Data Science tools working Data Science & AI domain prior projects 10\n",
      "Prototyping & learning algorithms cutting  problems finding planning NP- . Build maintain scalable data pipeline data . Basic preparation. Build analysis visualisation . Build solutions Big Data technologies respond real time. Minimum Bachelor Degree Computer Science Computer Engineering equivalent . Minimum 2 machine learning data analysis. Proficient software programming database Python Scala Java SQL scikit-learn MapReduce Spark Apache Hadoop. Knowledge Big Data Frameworks Spark Hadoop . Proficient statistical models Regression Clustering Classification . Experience working agile software development practices. Ability distributed . Singaporeans PRs encouraged apply position. Scikit-learn. Machine learning . Scala Java. Proficient statistical models Regression Clustering Classification . 11\n",
      "Key building management new data platform Whole-Of-Government services Responsible development real-time batch data processing pipelines scale data Data Analysts Collaborate stakeholders Whole-Of-Government Degree Computer Science Computer Electronics Engineering Information Technology disciplines Minimum 3 relevant IT deploying IT services roles Familiar frameworks Spark Good understanding programming languages Python Java Scala Strong command SQL NoSQL Experience data warehousing The : Building data use ETL tools Informatica NiFi Flink Ability Hadoop Hortonworks Cloudera Experience data science libraries Python Pandas Numpy Seaborn Understand ICT domain Enterprise ADPowershell / Bash scripting  Building data use ETL tools Informatica NiFi Flink Ability Hadoop Hortonworks Cloudera Experience data science libraries Python Pandas Numpy Seaborn Understand ICT domain Enterprise ADPowershell / Bash scripting  Good player strong analytical problem solving 14\n",
      "Provide production operational support system Participate building big data infrastructure analytics data science Develop deployment components system Perform existing new Build Continuous Integration Delivery (CI/CD) pipeline applications Liaise 3rd / manage technical issues Degree Diploma Computer Science Information Technology disciplines Hands- SQL Microsoft Business Intelligence data management limited : SQL Server Integration Services (SSIS) SQL Server Analytics Services (SSAS) SQL Server Reporting Services (SSRS) Power BI Sharepoint  Team Foundation Studio JIRA Experience one : Virtualisation (e.g. VMWare VSphere products) Container Technologies (e.g. Docker) Secure code review / Automated testing Big Data platforms (e.g. Hadoop Git) Scripting languages (e.g. PowerShell R Python) .NET programming Agile Continuous Integration tools Team player communication (interpersonal verbal) SQL Server Integration Services (SSIS) SQL Server Analytics Services (SSAS) SQL Server Reporting Services (SSRS) Power BI Sharepoint  Team Foundation Studio JIRA Virtualisation (e.g. VMWare VSphere products) Container Technologies (e.g. Docker) Secure code review / Automated testing Big Data platforms (e.g. Hadoop Git) Scripting languages (e.g. PowerShell R Python) .NET programming Agile Continuous Integration tools 16\n",
      "Masters fundamentals capabilities CUSTOMER JOURNEY .e. Customer Experience & Journey optimization Products Services Channel / Segment Optimization Business IT Delivery Develops phases products services well New product/ service product/ lead . (New) risk compliance Improvements new ideas implementations. Customer Uses / technical expertise contribute events ( ) Applies product/ service develop maintain customers Keeps track developments ( area methods ) Weighs development new products services -products. Initiates Prioritizes feasibility role Digital Studio lead Monitors requirements Minimum 7-10 banking project understanding Minimum 3-5 requirements user engineering data science software engineering Background UX preferred Experience Product Owner / Product Manager Strong software Experience Agile methodologies Strong leadership Excellent communication presentation high degree comfort speaking Must player Strong analytical quantitative Demonstrated think Brings high-energy job influence around Able build sense comfortable & Passion innovation   attitude 19\n",
      "We - interests technology services.  Work Develop test Demonstrated passion analysis Strong analytical numerical Excellent communication issues requirements Post- applied science business analytics Completed process CFA Program 20\n",
      "Work subject matter experts questions development visualizations techniques  Data Mining Machine Learning Statistics Execute Industry 4.0 Prognostics Health Management projects Seagate APAC Operations stakeholders Technical lead data science projects area Deep Learning Develop data mining exploration Design develop machine learning deep learning algorithms Leverage /  data mining machine learning methods problems Quantify effectiveness value subject matter experts Provide staff Highly proficient Python SQL R Solid technical machine learning deep learning data mining data structures Hands- Keras Tensorflow XGBoost CNN GAN RNN Time Series Analysis Experience full- development. Knowledge Hadoop Spark. Ability infrastructure Version control systems Git. Understanding software practices Demonstrate Leadership  Ability lead staff close Teamwork self-motivated. Self-starter. Ability influence. Ability well environment Strong oral written communication . Strong analysis clear A well native non-native English Able participate conference hours Working : Industrial IoT Sensing & Devices Predictive Maintenance Prognostics & Health Management Industry 4.0 . Knowledge Time-series analysis Thesis research topics predictive analytics  data  processing data- time-series language intelligence machine learning Proficiency Java JavaScript would plus 22\n",
      "Be Evangelist area data science advanced analytics grow Seagate Be Head Coach CDS . Ability CDS learning solving data science techniques Design maintain program Be subject (SME) program Work closely Program Manager develop Conduct workshops Program participants. Prepare solutions. Share data best practices Develop AI Trainer Program Create lead blog Monitor respond queries Provide support participants Complete ad- required Act participants data science projects part certification Be required conference hours communicate stakeholders Good oral written communication . Ability clear CDS Certification Program participants Effective organizational time management Demonstrated professional ethics A self-starter. Ability well environment A well native non-native English Experienced data scientist passionate teaching Highly proficient - Python Python libraries SQL R TensorFlow Hands- KNIME Good understanding Hadoop Spark AWS Azure Containerization Edge Compute Solid technical machine learning deep learning data mining data Relevant Data Science/Analytics Relevant / delivering Data Science/Analytics training plus. Ability 24\n",
      "Demonstrated Digital/Data/AI Analytics AI/Data Scientist/Data Insights: To analytics business strategies artificial intelligence(AI) machine learning data science business intelligence. Ability sets data sets visualization data analytics tools like SAS SQL Adobe Tableau Qlikview MSBI In- ecosystem including ( limited ) process business Experience advisory financial services / Telcos Ability client / help execution improve products value client business Ability sets data/information information Data Strategist/Strategy Data Transformation - Expertise implementation AI/Analytics/data data data security. Experience part / budget management controls risks issues / Experience Consulting . Understanding assets. Conceptualise data Assess BI/EPM develop - architecture business case Own outcomes organisations Understanding data modelling context big data real-time data Masters management . Manages    value client Infosys.   Reports risks.  Functional domains- IoT   AI Blockchain AR/VR Cloud Machine Learning Data Management Data   architecture. Leads teams Establishes deployment delivery    area Begins leadership IP Develops specialization. Builds Bachelor degree Economics Engineering Strategy Statistics advanced degree (Master MBA PhD .) preferred Relevant e.g. customer strategy journey segmentation advanced model process cost IT . Tertiary qualifications marketing . Analytical Skills: Ability findings - . Collaborative social: Must wide variety people. Exceptional Communication . Strong Problem Solving Skills:See world clients. Relationship Management-Build clients internal stakeholders 25\n",
      "Demonstrated Digital/Data/AI Analytics AI/Data Scientist/Data Insights: To analytics business strategies artificial intelligence(AI) machine learning data science business intelligence. Ability sets data sets visualization data analytics tools like SAS SQL Adobe Tableau Qlikview MSBI In- ecosystem including ( limited ) process business Experience advisory financial services / Telcos Ability client / help execution improve products value client business Ability sets data/information information Data Strategist/Strategy Data Transformation - Expertise implementation AI/Analytics/data data data security. Experience part / budget management controls risks issues / Experience Consulting . Understanding assets. Conceptualise data Assess BI/EPM develop - architecture business case Own outcomes organisations Understanding data modelling context big data real-time data Lead managing    domains- IoT AI Blockchain AR/VR Cloud Machine   Learning Data Management Data architecture. Represents Infosys client  leads    interactions client Manages Establishes builds IP    offerings Coaches project members   hard . Adjusts style approach get   individual Opens conversations new lead    opportunities. Presents effectively sales     self others Masters . Delivers complex   presentations . Delivers effective    Bachelor degree Economics Engineering Strategy Statistics advanced degree (Master MBA PhD .) preferred Relevant e.g. customer strategy journey segmentation advanced model process cost IT . Tertiary qualifications marketing . Analytical Skills: Ability findings - . Collaborative social: Must wide variety people. Exceptional Communication . Strong Problem Solving Skills:See world clients. Relationship Management-Build clients internal stakeholders 26\n",
      "Respond       customers DataRobot Platform Triage      problems DataRobot Platform Work      DataRobot subject matter scientists engineers       issues Assist       develop support Design       services value       platform Learn      DataRobot Platform       techniques Document       Develop career       data science Experience       enterprise SaaS products AWS Experience       procedures Data Analyst       Data Operations working BI tools. Experience       SQL R Python Experience      working Linux Strong      verbal written communication 3+       analytical technical       passion learn Bachelor      degree relevant field (Computer Science Statistics Math)      equivalent A degree       computer science data science Experience       Jupyter Anaconda Experience       Data Science Data Analyst Data Operations      working big data. Respond customers DataRobot Platform Triage  problems DataRobot Platform Work DataRobot subject matter scientists engineers issues Assist develop support Design services value platform Learn DataRobot Platform techniques Document Develop career data science 27\n",
      "Identify use AI & Machine Define data fit clients state- - -art methods solve problems efficient  Build statistical machine learning techniques patterns large data sets  Communicate potential improvement  Evaluate third emerging technologies (e.g. deep learning NLP)  Collaborate clients Palo IT practices build - - gather data features ML algorithms well machine data-  Participate development assets/  Contribute thought leadership research   You BachelorMaster PhD degree Computer Science Statistics discipline performance analytic required   You 3 working   Good supervised/ learning techniques algorithms   Good applied languages RPython(NumPy pandas) SAS SPSS .   Experience machine learning frameworks(e.g scikit-learn SparkMLlibCaffe TensorFlow) / data (e.g. SAS Dataiku)   Data- SQLdata wrangling data modelling   Exposure tools / libraries(eg. Tableau Qlik D3.js GGplot)   Willingness data science techniques deep learning NLP...   Willingness part multi-disciplinary business problems end- -end 28\n",
      "Oversee Centre AI Apps (Android iOS) Drive Apps Pursue integration AI Unity based IntelliK platform Prepare Centre Director Bachelor degree Fine Arts (Visual Communication) Background art Experience managing Unity projects role Minimum 5 relevant academic 29\n",
      "Key drive required  developing delivery Manage software well ensure  quality . Provide   Develop Software Design Document well necessary  sub-components Technology Readiness  Level Develop -flows   achieve 15+ Bachelor degree  Electrical/Electronics/Computer Engineering. Technical data management/artificial intelligence  preferred Project management Multi-stakeholder management People- Strong programming quantitative (e.g.  statistical analysis) Ability independently small  teams 30\n",
      "Personally involved development . Designing developing scaling big data technologies . Build analytics tools data pipeline insights key metrics. Build transformation data wide variety data sources SQL AWS big data technologies. Assemble large complex data sets / non- requirements. Engage key understand . Identify : - scalability . Experience designing data models efficiency quality data. Programming programming languages : C C++ Java Perl Python Experience building data pipeline data analytics solutions. Strong analytical communication driven understand data. Knowledge writing Advanced SQLs performance tuning SQLs. Database development Relational MPP/distributed systems Oracle/Teradata/Vertica/Hadoop Experience data science machine learning tools/technologies plus. 32\n",
      "Member - data analytics AI development works machine learning (including NLP learning) experimental optimization. Oversee technical partners /services data analytics data science AI. Support business users assessment/validation partner- deployment production. Help create Tableau dashboards . Extract insights data visualization. Work closely application development teams /machine RESTful-API microservices. BS Computer Science Mathematics Statistics Physics discipline required. Advanced degree analytics machine learning AI preferred. Intermediate Python. Conversant algorithm data structure SQL. Functional/object- development Java Scala plus. At 2 relevant industry two : Hands- learning AI information retrieval. Experience GPU- learning frameworks ( Keras TensorFlow PyTorch) plus. Knowledge working -reduce systems Spark Kafka. Knowledge Bayesian statistics inference. Knowledge working data visualization tools like       Tableau PowerBI Qlik. Experience Agile/Scrum/Kanban methodologies plus. Hands- AWS GCP plus. Excellent interpersonal & communication non- users. Proven problem-solver. 33\n",
      "Early- Working closely Finding fit Building Business Plan Identifying MVP Go-To-Market strategy Building roadmap Ability marketing business Comfortable development startup markets Degree fields Engineering Product Design Business . Minimum 4 product management industry Building products Creating new product Performing Running Experience/familiarity AI/ML/Data Science products Startup creation Executing fast-paced dynamic environment Ability English Chinese  build    relationships English   Chinese speaking stakeholders Ability travel meet clients 34\n",
      "Involve development developing scaling big data technologies (Teradata HANA Vertica Hadoop Kafka Spark Cassandra ). Build analytics tools data pipeline insights key metrics. Build transformation data wide variety data sources SQL AWS big data technologies. Assemble large complex data sets / non- requirements. Engage key understand . Identify : - scalability . Experience designing data models efficiency quality data. Programming programming languages : C C++ Java Perl Python Experience building data pipeline data analytics solutions. Strong analytical communication driven understand data. Knowledge writing Advanced SQLs performance tuning SQLs. Database development Relational MPP/distributed systems. Experience data science machine learning tools/technologies plus. 35\n",
      "Build data science applications - systems machine learning statistical methods analytics techniques. Build analytics solutions . Plan - ecosystem customer marketing. Monitor control phases development process analysis implementation well operational support applications business users Ensure followed processes Appropriately firm Citigroup clients assets Policy managing issues . 3+ machine pipelines analytics techniques. In depth building data processing monitoring. Working engineering automation. Good understanding principles software engineering data analytics. Hands- XGBoost scikit-learn PySpark Tensorflow preferred. Experience financial preferred. Bachelor degree/University degree equivalent 36\n",
      "The Research Fellow LARC (Living Analytics Research Centre) researchers urban/ Data Text Mining Machine Learning Deep Learning Crowdsourcing Recommender Systems Social-Urban Sensing Big Data Infrastructure. Design develop algorithms   models.  Design tools systems. Assist capabilities big data infrastructure . PhD Computer Science disciplines. Good relevant  research  topics    possess  research .                  Proficient one programming languages: Java Python C# C++ C. Strong interest Al Deep Learning Machine Learning field . Self-motivated . Excellent player inter-personal . Analytical attention details. 38\n",
      "Work members develop implement AI projects specialization Image Video Processing Master data analysis data understand data . Work closely data systems . Design build infrastructure preparation data variety sources technology. Identify AI/ML technologies solve problems. Deploy integrate AI ​​models back- build front- ( APP). Cooperate internal/ data. Aggressively - - - - tier-1 . Bachelor Degree Computer Science field 5 relevant Good programming problem Python C++ Familiar Deep Neuron Network CNN R-CNNãVGGNetãResNet Familiar Caffe Tensorflow Enjoy presentation Experience OpenCV OpenGL Experience Camera 3A algorithm Experience Kaggle DNN Proficient English 42\n",
      "Designing Executing market data Developing high firm Deliver enable Enhance overall order provide world class . Hands development technology . This guidance Close collaboration   Work closely Operations & compliance & feedback Own applications production support Bachelor Master degree Engineering Computer Science equivalent High proficiency data structures algorithms High degree comfort programming C/C++ Very communication 43\n",
      "Extract analyze understand domain problem solve      coming business Design develop implement Maintenance Data Science      Pipelines support Work closely Data Engineers       amounts data variety statistical      techniques. Documentation solution configuration operation      processes. Industrialize Machine Models integration Knowledge transfer customer rest members 3+ Statistics expert ( analyzing interpreting      large amounts data) variety statistical techniques. 3+ Machine Learning techniques: feature       evaluation... 1+ Time Series Analyisis 1+ Scala . Functional programming 1+ Hadoop platform Apache Spark 1+ Knowledge Telecommunication/Fintech Sector 1+ Deep Learning 46\n",
      "Background machine learning data science  Take projects production environment. This functional   Proactively /   Conduct data analysis/ queries SQL Python Provide tools like Powerbi/ Tableau Able patterns trends data Collaborate data managers operation help insights Ability aptitude learn new things active member Graduate Mathematics Statistics Engineering Computer Science field Able Familiar one programming/scripting SQL Python Experience data analysis data Highly motivated independent You projects Operating System: Unix/Linux Windows  Cloud Technologies: AWS  Database: Redshift 47\n",
      "Feature engineering extraction Iarge healthcare datasets Multimodal data analytics healthcare datasets (structured ) Predictive analytics time data Ph. D. Computer Science Computer Engineering Mathematics Statistics Electrical Engineering Data Science intensive fields Candidates one addition background / datasets: -Deep Learning/ Machine Learning - ! time series analysis / predictive analytics -Biomedical informatics/Healthcare Data Analytics -Natural Language Processing/Text Mining -Data Mining Data Management Experience corporate application oriented environments plus Candidate 2 PhD  Ability independently innovate develop prototypes demonstrate feasibility research ideas Good data analytics/machine learning/data mining solving real- science problems Good publication record journals Experience biomedical healthcare datasets (EMR ) plus Strong programming abilities one   : Python ( preferred) R C C++ Java Familiarity data science tools (e.g. Jupyter learning machine learning visualization libraries) Good player research engineering learner Good interpersonal communication 52\n",
      "PhD engineering computer science engineering data science intensive fields Candidate one addition background / datasets: - Mathematical Optimization - Deep learning/ Machine learning -   - Statistical inference - Biomedical informatics/ Healthcare Data Analysis Up 2 post PhD Experience corporate application oriented environments plus Ability independently demonstrate feasibility research ideas Good machine learning / deep learning Experience solving real- data science problems Good publication record learning Good player research engineering learner Good interpersonal communication Experience biomedical healthcare datasets plus Strong programming abilities one : Python (Strongly preferred) R C C++ java) Familiarity data science tools (e.g Jupyter learning machine learning visualization libraries) 59\n",
      "Unsupervised deep learning Multimodal deep learning healthcare datasets ( ) PhD electrical engineering computer science engineering Physics data science intensive fields Candidate one addition background / datasets: - Deep learning/ Machine learning - supervised/unsupervised - Computer vision/ Medical - Clinical informatics/ Healthcare Data Analytics - Applying state- - learning techniques different domains Up 2 degree Experience   environment plus Experience corporate application oriented environments plus Ability independently part Quick learner willing learning Good communication publications Proficient spoken written english Programming abilities familiarity data science tools (e.g. Python R Matlab C C++ Java Deep Learning Machine Learning Visualization Libraries) plus Medical image processing ( ) Experience clinical (e.g. PACS RICS EMR) plus 61\n",
      "Core Data Science Artificial Intelligence Machine Learning DER Analytical Tools Develop strategy Lifecycle management new / solution  sales product management Define execution methods large scale R&D projects new IT involving Data Science techniques Planning multi- project Convert complex data findings Prepare present results stakeholders management Support projects Master degree Economics Engineering University PhD Proven track record High Scientific Background   IT Artificial Intelligence (AI) Knowledge Artificial Intelligence IoT applications Experience software development Excellent written verbal communication (English) Strong Global Customer exposure Experience AI required Knowledge Block Chain Data Science techniques advantageous Understanding Implementation Energy Management Strategies advantageous Strong people leadership Minimum 10 63\n",
      "Core Data Science Artificial Intelligence Machine Learning DER Analytical Tools Design learning/AI- DER analytics & energy/ tools operations Interval forecasting & (e.g. level customers ) addressing requirements robust/ Research state- - - AI- DER ideas implemented management Be - domain/ integration & implementation Be R&D lead define & achieve Work closely partners / delivery Any ad- responsibility e.g. . assigned Master PhD degree Electrical/Computer Engineering Specialized Power Systems/Renewable Energy Management/Artificial Intelligence/Machine Learning Artificial Intelligence/Reinforcement Learning- & forecasting operations Actor- methods Markov Decision Processes Monte Carlo Tree Search Policy Gradients model- deep learning (neural networks) Proven Machine Learning (Supervised/Unsupervised/Semi-supervised/Reinforcement Learning) e.g. linear/ Support Vector Machine (SVM) Random Forest (RF) Bayesian networks Programming languages (e.g. R Python) view techniques Strong use learning frameworks Scikit-Learn H2O Keras Pandas Numpy TensorFlow Spark Experience building maintaining Big Data open- Hadoop Cassandra Minimum 5 64\n",
      "Able meet deliverables Identify high- services opportunities innovation Assess success Establish sub- -operation Establish processes large - / Formulate long- standards performance department Assure Ensure implementation development process Ensure product development meeting customer requirements Provide leadership operating system act subject . Provide leadership cloud Provide including Windows MacOS Android iOS operation (VDIs ) Microsoft Office . Deliver platform desktop projects CTO Responsible desktop lifecycle engineering service . Responsible support maintenance environment. Proactively develop support manage . Act subject Windows desktop Microsoft Office. Work closely end users security ensure       . Drive outcomes mind-set. Hands- Technical Expertise (Java & JVM) (ReactJs) Appreciation UI/UX Design ensure customers Minimum 10 IT / Software Engineering minimum 3+ Ability foundation Experience building non- driving success thought leadership Technical expertise architecture development Experience  based SaaS products Significant leadership track record success fast- - - resources deadlines Give Excellent interpersonal oral written strong sense interactions Highly skilled throughout Strong analytical problem-solving . Bachelors Degree Engineering equivalent 65\n",
      "Major Computer Science Computer Engineering. Hands development data analytics/ machine including data building . Familiar oriented patterns. Follows software development version control . Understand  - (ECG PPG biomedical/healthcare data) plus. Excellent written verbal communication .  Good player. 66\n",
      "Development data data-sets. Analysis large data results. Development deployment mining algorithms Development Selecting machine learning techniques At 2 data analytics data science business intelligence field. Technical expertise data mining . Passion data insights translate value application business stakeholders Adept queries algorithms. Smartkarma ( :// . . /) platform changing . We world data scientists network optimize Asian markets. Smartkarma Singapore highly-motivated world Join world class ! 67\n",
      "Hire & mentor create high performance Deepen & capacity Increase Build global Develop Universities Indonesia SouthEast Asia World Accountable responsible /use cases/ . Deliver deliver KRs/outcomes/ Translate data science/ . Partner business & product business experiment measurement People Strong communication stakeholder management Highly encouraged Expert   Comfortable business + industry Economics/Statistics/Computer Science quantitative discipline equivalent Ph.D plus Deep statistics inference Demonstrable clean Python R Excellent SQL/Spark optimization Familiarity learning methods ( regression .). Experience training production plus Capable mentor. You sharing working junior members also learn Great . Product managers executives findings clear done make You insights impact product data methods 68\n",
      "Translate business problems understanding data science techniques Formulation opportunity data R&D Assist identification & exploration data Serve business users data scientist test roll solutions Manage end delivery stakeholders Keep date advanced analytics techniques technologies Good business analysis required .e. needs Keen understanding data science machine learning techniques Excellent verbal written communication Ability Has  -  attitude Competencies data (e.g. R Python Spark) would 69\n",
      "Translate business problems understanding data science techniques Formulation opportunity data R&D Assist identification & exploration data Serve business users data scientist test roll solutions Manage end delivery stakeholders Keep date advanced analytics techniques technologies Good business analysis required .e. needs Keen understanding data science machine learning techniques Excellent verbal written communication Ability Has  -  attitude Competencies data (e.g. R Python Spark) would 70\n",
      "Conceptualize - time cost features. Develop algorithms . Test algorithms production- . Constructing insights familiar data sources complete data. Developing optimization traffic e. .c. Deep big data data metrics ETA. Design learning optimization Integrate simulate test impact algorithms features Minimum 2 relevant one : Developing optimization algorithms software. Developing optimization algorithms - flow/ / . Developing large- -event/ - models. Ph.D. Master outstanding Bachelors Operations Research Computer Science Electrical/Computer Engineering Mathematics/Statistics Industrial & Systems Engineering . Strong fundamentals optimization familiarity : ML simulation. Proficient languages Python R strong working RDBMS PostgreSQL NoSQL Strong programming Java Scala preferred. A self-motivated willing share . Efficient detail- manager dynamic Experience working mobility Experience PG Routing Experience parallel programming Familiar Linux/Unix cloud computing plus. 71\n",
      "We process You diverse funding clients Everything businesses We well Responsible developing Fundnel products ( . . & . ) vision Mentor software engineers Design Fundnel Maintain quality products collaborating rest engineering Maintain organization understanding execution security Exploring integration third-party APIs Leading & personal Conduct Recruit Keep technology Full- At 5-8 software development At 2-3 Strong one must: - PHP (Yii Laravel Symfony) Python (Django ) Ruby Rails - Expert JS preferably VueJS ReactJS Solid front- SASS LESS Bootstrap web Experience assets management Understanding DevOps deploy infrastructure Experience AWS services (EC2 RDS Redis .) bonus Experience building REST APIs systems OAuth Experience practices Memcache Redis policies Experience building . Experience TDD unit testing Experience Python R Experience Have portfolio data science projects Experience deployment machine learning cluster Experience machine learning algorithms -learn Python Ruby (Ruby Rails) Slim Queue event- RabbitMQ Containerization (Docker) (Make Rake) CI/CD within (Kubernetes Capistrano) Orchestrating tasks services Web servers (Nginx ) 74\n",
      "PhD   computer science/engineering   statistics fields Strong  background AI machine mining  statistics preferred Experience/   develop new data Programming   R/python/perl/ /C++/Matlab/Java  similar Experience   analysis NGS / - data ( ) Good   player interpersonal Interest   background biology willing learn Initiative  self-driven critical thinking Ability learn new new  challenges 77\n",
      "Under support analysis data view solve problems Support analysis data stakeholders decisions Support use data insights solve problems Preferably 5-7 relevant proven track record Software Development & Integration data analytics Engineering business problems Strong data / SQL ETL implementation Proficient data like Python R SQL Statistics depth ML Algorithms     Framework & Open source Libraries Hands- - data technologies like Hive Spark . Hands- Oracle MySQL NoSQL databases Good understanding building Working Logistics Transformation domain Project management Self-motivated willing share Strong communication visualization collaborate required 78\n",
      "Design develop models . Use data discovery exploration identify strategies techniques . Develop tools analysis R SAS MATLAB Python . Translate results Protect Company interests application interfacing . Engage quality Academically strong Masters degree/PhD Maths Statistics Computer Science minimum 3 data science . Experienced Predictive Analytics advanced Analytics Machine learning algorithms . Expert one programming languages : Python R SAS. Ideally   Spark Hive Pandas Python SQL Qlik Tableau Power BI SPSS Matlab JMP . Good business requirements translate       deliver Excellent verbal written communication - managers subject matter experts Proactive motivated problems deliver high- accordance timeline 79\n",
      "To support Life Operations guidelines responsibilities    data compliance organization / . To support Life Operations   analyzing data methods ways   efficiency systems. To support Life Operations reporting actions. Perform full time-cycle Data Scientist Analyst conceptualization . Work closely understand business requirements translate data models   self-analysis self-    . Build framework business solutions  plan solutions . Collaborate cross-functional deliver high advanced multiple large data sets. Apply data science advanced statistical analysis high- learning techniques. Research / algorithms sources data outcomes. Stay top trend application machine learning & AI. Deploy high   learning models . Validating machine presenting data insights functions    . Guide users integrity . Solution analytics actionable insights efficiency risks. Apply data mining techniques statistical   analysis insights data present results visualization tools ( .e. Tableau Power BI) Create process &   best practices data analytics used current . Adoption dashboards & Life Operations. - % number users / systems. Improve controls data analytics predictive models. AIA Singapore EXCO Key Business Users Technology & Other Internal Stakeholders Vendor Other Business Partners 82\n",
      "Design production- analytic data . Implement solutions well- data model lifecycle Bring together -practice data science community Coach mentor data engineers data scientist 5+  / analytics business 10+  infrastructure Experience working Big Data platforms Hadoop Spark Snowflake Presentation high degree management developers. Demonstrated - requirements Demonstrable adapt new technologies Good communication track record company Strong analytical problem-solving Strong written communication 84\n",
      "Design production- analytic data . Implement solutions well- data model lifecycle Bring together -practice data science community Coach mentor data engineers data scientist 5+  / analytics business 10+  infrastructure Experience working Big Data platforms Hadoop Spark Snowflake Presentation high degree management developers. Demonstrated - requirements Demonstrable adapt new technologies Good communication track record company Strong analytical problem-solving Strong written communication 85\n",
      "Identify advanced analytics problems domain (e.g. ) Translate business requirements architecture data pipeline business outcomes Conceptualize develop enhance advanced methodologies /unstructured data Embed collaborating making business process Communicate advanced non-technical stakeholders understanding Work overall tasks Advise management stakeholders best practice advanced analytics PhD Master degree Industrial/System Engineering Applied Mathematics Statistics Electrical/Computer Engineering Business Analytics Minimum 2 Data Science Operation Research Optimization Experience research/optimization techniques academic Hands- /coding /libraries (e.g. Fico Xpress CPLEX Gurobi SAS) Proficiency programming language (e.g. Python Java R) Strong Database programming SQL Domain manufacturing Knowledge data - modeling plus 86\n",
      "Lead Data Scientists Data Analysts solutions analytics across Focus self- data making Apply expertise analysis data mining machine learning algorithms performance analytics solutions Collaborate business challenges Proactively discover data sources / Continuously explore techniques data Degree Statistics Mathematics Computer Science field 8+ Data Analytics Machine learning Expert learning    neural networks . Knowledge data storage data controls enterprise data warehouse   Experience -time/ real-time data analytics solutions Experience data visualization & analytics tools Tableau ThoughtSpot Working Big Data development technologies (e.g. R      Python Scala Matlab Java Hadoop Spark SQL & NoSQL databases Snowflake) Experience MS Azure cloud technologies cloud computing Experience Agile development DevOps CI/CD Telecom domain understanding Customer Care Order Management Marketing Loyalty Business Support Network Provisioning advantageous Knowledge Digital Marketing platforms Data Management Platform (DMP) analytics solutions 3rd (Google Analytics Facebook .) Experience analysis would Comfortable working data /unstructured Strong analytical problem solving Excellent communication presentation business stakeholders levels Ability multi-task perform pressure 90\n",
      "Identify opportunities Data & Analytics solutions Translate business requirements business acumen. Analyse procedures well leveraging Data & Analytics solutions Develop Develop pricing Research technologies identify opportunities include NCS portfolio Data Analytics capabilities Develop new solutions help deploy Data Analytics services scale Provide . Perform thought leadership role limited : Data Consulting Data Governance Data Management Data Architecture Data Science Data Visualization Help allow perform manner Identify estimates Data & Analytics solutions Provide teams Build maintain relationships vendors benefits Plan Data Analytics platforms cloud Design data models Big Data NoSQL platforms Architect data pipelines data initiatives metrics Work closely support issues/ propose/ analytics solutions Bring ideas effective strategy Work business data deliver agile software methodologies The range responsibility including: Possess communications understand customers - - solutions address Good critical thinking problem- Prior data pipelines commercial / open source Data Analytics platforms vendors Cloudera Microsoft Amazon Web Services Google Teradata Informatica Talend DataStax Cassandra Strong data Spark Scala Impala Hive SQL Apache Nifi necessary build real-time data pipelines Good operational tools eg: Linux Apache Ambari YARN data platforms Data modelling foundation data modelling OLAP Undergraduate Computer science equivalent Experience aspects data management data management Large scale data analytics solutions Experience leveraging cloud- : 92\n",
      "Building core UI components React. Working create platform      style. Collaborating business      stakeholders workflows processes       efficiency. Creating interface non-       share data front end Implementing best practices       workflow. Working back data scientists       goals company. 3+ React development Comfortable architecture       platforms. Previously enhancement       JavaScript. Prior JavaScript       . Successfully - -      solutions problems. Experience Mapbox Web GL      D3 data bonus. 95\n",
      "You lead Dataspark - As subject one engage C- point Dataspark offerings You engage key Dataspark partners Dataspark Develop & Dataspark / insights problems Lead workshops / presentations clients articulate value Dataspark .  Architect solutions based translate use cases Dataspark address software insights Provide Lead cycle . Work closely project delivery project Review projects delivery expectations For delivery either Be identify strong technical & non-technical Dataspark. Open role based Singapore Bachelors Master degree Computer Science Analytics discipline Ability . 5- capacity domain BI data management data warehouse analytics An outstanding understand business problems articulate based Dataspark solution Experience working Telco clients APAC region Domain Telco Network Planning Has .Experience advanced analytics Predictive Modelling Knowledge Analytics Data Warehousing ETL data structuresGood EQ expectations Self-starter & disciplined Proven analyse environments Ability think solutions Passionate Data Science 96\n",
      "Design implement statistical machine learning models approaches application Healthcare. Communicate findings results relevant stakeholders insights making performance. Implement analytical models production collaborating relevant stakeholders. Develop processes tools monitor performance well needed. Provide support building foundation Enterprise Data Analytics department. Drive abreast industry new data business. Develop business advise business approach presentations applicable. 97\n",
      "A department Diversity Inclusion (D&I) firm D&I part Global Conduct Ethics Standards. Opportunity part highly motivated Analytics Credit Suisse based Singapore building capabilities insights. Building capability solutions. Developing partner IT infrastructure businesses. Developing consistent approaches ( modeling machine learning) appropriate . Responsibility sets. Studying fundamental high questions direction company industry large. Developing working . Collaboratively strong spirit fast environment. At 5 financial industry risk- discipline (market/credit/enterprise). Experience . Hold PhD Master degree quantitative field (e.g. Data Science Machine Learning Statistics Mathematics Physics) Computer Science At 3-5 modelling machine learning / large datasets: classification Machine Learning algorithms Supervised Unsupervised Experience Natural Language Processing (NLP) / extraction unstructured data mandatory. Proficient one : Python PySpark SQL big data development big data database programming processing scale e.g. Spark Hive. Outstanding written verbal communication levels responsibility required data. Experience leading possess individual contribute environment . High level attention detail . You responsibilities required within . Understand value diversity culture aspects people realize bring . This application. 99\n",
      "Design platform  datasets (near) real-time  data insights   variety open-source Big Data technologies Collaborate product marketing teams requirements well managed Support deployment clients IT closely engineers data scientists  data science machine learning algorithms products Degree  Computer Science Computer Engineering  equivalent Demonstrated practical -depth BI analytics used Experience deployment emerging Big Data technologies real- Good understanding Telco data models. Knowledge capabilities SQL Relational Database Management System Parallel programming (Hadoop HDFS HBase Hive Spark .) Graph- programming (Neo4j) Java Python Amazon AWS Agile software development practices Mobile app programming (iOS Android) 101\n",
      "Plan Design Develop IT Systems Collect user requirements new IT solutions enhancement Project system architecture data flows Engage phases software development life cycle modules large scale systems Provide troubleshooting & function ensure operation MES IT system Software development C# VB.NET Jquery ASP.NET Oracle MSSQL enhance current MES system IT user acceptance testing program Follow time quality users Other duties assigned IT learn IT disciplines Bachelors Master Engineering Data Science Computer Science Computer Engineering field study 5  10 software development industry leading scale projects Experienced database data structure Oracle MSSQL databases Have process requirements Must possess programming create architecture Good members 102\n",
      "Selecting learning models. Data mining state- - -art methods. Extending company data third information needed. Enhancing data relevant systems. Processing cleansing integrity analysis. Doing ad- . Building machine learning models. A/B Testing . At 4  data working large data sets. Self-driven entrepreneurial strong sense ownership. Excellent understanding machine learning techniques algorithms. Experience Scikit-Learn R Weka MatLab . Great communication . Possess understanding CS fundamentals. Strong regression . Strong programming . Experienced Python R Golang Scala R Shell. Ability theory . Ability independently solve problems . Experience techniques (supervised ) develop . Kaggle/Hackathon plus. Prior huge plus. 103\n",
      "Gather business requirements Clients Business Analysts Design & Develop solutions based requirements Maintain Innovate new solutions/components Build POCs usage present Elaborate (Design guide ) Maintenance existing BI projects Interact Continous Improvement Capability (    ) Knowledge Microsoft SQL Server (2014- 2017) Knowledge writing SQL queries optimization Knowledge data model Knowledge SSRS (2014 2017) PowerBI Knowledge SSIS (2014 2017) Knowledge BIML plus Exposure data visualization tools (Tableau Qlik) Exposure data analytics data science (Python Spark ) Exposure development .Net (2.0 4.5) Proactive style working Strong communication (written verbal) organizational Strong desire emerging technologies Team Understanding diversity 104\n",
      "Degree Computer Science Engineering Information Technology Statistics Minimum 6  working 2 - data quality data management Solid challenges use data information Strong understanding various data / data management data Strong change management programs Keen interest business process modeling -engineering Understanding architectural  various data . Six Sigma Certification Knowledge Data Science Data Analytics Experience Insurance Industry. Develop maintain data policies   organization business needs Work   standards various data Manage practices accordance architecture Strategize &  guidelines -service Ensure technical stakeholders support program Involve root cause analysis Data Incidents & actions Involved controls  data Actively involved supporting Data Governance Committee Data Governance Working Group member . 107\n",
      "Gather data scale ( APIs write SQL queries .). Process unstructured data suitable analysis. Monitoring performance changes. Implement . Collaborate closely -use . Bachelor Degree Computer Science Engineering subject. Experience data preferably finance- applications Proficiency Python C++ development. Experience SQL NoSQL technologies. Experience debugging Unix/Linux environment. Critical thinking: track complex data solve problems. Self-starter: learn technologies projects. Team player excellent communication . Capable across . Knowledge / interest trading . Experience highly systems. Experience web application development Experience real- applications. Experience large datasets Wikipedia transactions . Exposure KDB+ database q scripting. 108\n",
      "Plan coordinate deliver range statistical analysis formulation Shape practiceoriented IP (including ) Support cross grow Singapore build assets IP marketplace. A Degree Economics Data Science Statistics Mathematics field At 35 relevant data / statistical analysis The capacity ( ) ideas/insights (b) (c) The articulate The willingness experiment risks A player. 109\n",
      "Help train develop advanced analytics drive Data Analytics capability company clients. Act Big data technologies . Work closely sales / Big Data space. Write proposals set POC clients . Be company networking opportunities. Identify use AI & Machine Define data fit clients state- - -art methods solve problems efficient Build statistical machine learning techniques patterns large data sets Communicate potential improvement 10 + Business Intelligence / Big Data / Analytics . Familiar : Proven planning analytics business . History industries. Ability communicate vision purpose teams clients. 111\n",
      "Be / functional requirements lead /architecture solutions meet requirements. Lead designing - -end deployment well maintenance based practices. Be delivery clear & solutions/code. Contribute development code based company practices guidelines. Continuously improve technologies. Contribute development practices/ . Be strong -player Be excellent English written spoken. 10+ systems. B.Sc. Masters equivalent quantitative field (Computer Science Mathematics Engineering Artificial Intelligence .). Hands 2 programming languages Python/Java/Scala.  In depth 2 Hadoop/Spark/Storm/Flink/Kafka. In depth two NoSQL database (HBase/Cassandra/DynamoDB/Neo4j/Mongo/MemcacheDB) Good machine learning logistic regression/ SVM/ Random Forests. Knowledge advanced data structures algorithms. Knowledge large scale ML Tensorflow/pytorch  Knowledge learning CNN/RNN Knowledge Cloud AWS/GCP. Knowledge like Elastic search/Solr/Lucene. Knowledge Arango DB Proficient CI/CD Jenkins/SonarQube/Ansible. A solver use initiative solutions. A information others way. An approach methods processes. An get . Prior working start- environment 112\n",
      "METRON Energy Digital Technologies METRON culture open- Energy Efficiency Industry. METRON developed customers AI machine learning . We provide customers METRON-EVA Energy Virtual Assistant platform matter experts energy ICT data science. Founded METRON fast- - Paris Milan Singapore Dubai Sao Paulo Bogota Mexico. METRON . Conducting feasibility Industrial . Implement METRON solutions Master Data Science tools methodologies : statistical Prepare present deliverables client: . Model Set Identify improvements Implement platform Participate customer needs pre-sales Create partnership stakeholders management : Support implementation phases Manage project: Travel % time Master Science mechanical engineering equivalent industry HVAC / control systems. Technical either project Industrial field. Very oral written communication Japanese English. You world energy As proposal creative implementing . Dynamic problem solving attitude. Proactive communication (internal external) Proficiency English written Experience: 5 Background Industrial mechanical engineering Specialization: Project Management Energy Processes Industry. Field study: University Diploma Engineering School Master Science Engineer ( 5 ) training use energy Technical Experience ( 5 ) Energy Efficiency Project Management Industries Health insurance A flexible environment - home. Professional Paternity/Maternity 115\n",
      "PhD  Computer Science Statistics Data Science intensive fields expertise one : Experience corporate application oriented environments plus Ability independently well teams highly desired Good communication proposals reports publications Experience one Tensor Flow Theano Caffe CNTK. Skills Strong programming abilities (e.g. Perl Bash C/C++ Java Python R MATLAB) Computer vision deep learning desirable 116\n",
      "Master Degree / Bachelor Degree Finance Statistics Mathematics Computer Science/Engineering Business Analytics quantitative disciplines. Preferably 5 technical 2 . Very financial/statistical modelling machine learning data mining track record solving problems methods Experience healthcare Prior algorithms tools R/Python/SQL. Good understanding MATLAB SPSS STATA Strong analytical problem-solving Ability independently well fast-paced environment. 117\n",
      "Research & Development create value finding customers/ customer data( data .)  issues technologies. Expertise algorithms data . Ph.D. Master Degree Computer Science Operations Research Applied      Statistics Data Mining Machine Learning Physics quantitative discipline. At 5  . Deep understanding statistical concepts      machine-learning      recommendation optimization algorithms. Expert - variety tools. Good database technologies. Good programming C/C++ Java Python / R¢ Good       use statistical R MATLAB SPSS      SAS preferred. Good BI tools Power BI Tableau      Microstrategy equivalent. Experience - solve       problems unique       technical desirable. Excellent written . Knowledge Public Safety Transportation Healthcare domains . 118\n",
      "Recognised degree (master PhD) Computer Science Information Technology Software Engineering fields (e.g. Data Science Health Informatics Industrial Engineering). Excellent analytical problem solving . Experience SQL Apache Hadoop open- (e.g. Python R) plus. Experience maintaining Linux server cluster. Competent written spoken English. Good player supervision independently. Self-driven excellent interpersonal . Good organization multi-task fast-paced environment. 119\n",
      "PhD   Computer Science/Engineering equivalent expertise Have   one : blockchain  IOT parallel distributed privacy   . Programming   : multi-language (C++ C# Java Python Go) (TCP/IP  Socket) parallel programming (multi- OpenMP MPI) Web-based   development. Strong   background Public Key Infrastructure K-   preferable Candidates   - experiences network Linux OS   (e.g. Xen KVM Docker)  database preferable 120\n",
      "Master/  Bachelor Computer Science/Engineering equivalent  expertise Excellent   development :  multi-language (C++ C# Java Python Go) (TCP/IP Socket)  parallel programming (multi- OpenMP MPI) Web-   Candidates   - experiences network Linux OS   (e.g. Xen KVM Docker)  database preferable Knowledge   data security privacy preferable 121\n",
      "Bachelor Master degree Information Technology/Computer  Science/Engineering relevant discipline Previous data science/machine  learning Programming  Python Good communication interact external   Team spirit Ability fast-paced  environment 122\n",
      "Work closely stakeholders understand needs/ problem case data actionable used operations .  Perform pre- engineering models analysis. Know appropriate communicate effectively. Iterate stakeholders based insights. Depending needs dashboards tools data exploration well may expected.  Potentially deployed Government Agencies Data Scientist. This data analytics projects Agency well services Agency teams Agency data planning pipeline Bachelor Degree Computer Science Statistics Economics Quantitative Social Science . We (e.g. Coursera) Minimum 2 preferably data science field Ability well understand business needs challenges Understand techniques machine learning data analytics Training relevant one : Data science tools R Python Visual like Tableau Qlik Excellent communication oral written Strong problem solving Team player Passion use analytics data improve Public Service Data science tools R Python Visual like Tableau Qlik 123\n",
      "Improve delivery policy insights Work closely product scientists engineers develop test Write production- engineers models operation Learn new things members multi-disciplinary Rapid Prototyping - Instead ideas testing . This quickly possible . Ownership - In addition means done ideas . Building . Continuous Learning - Working new means working . Taking time learn new technologies languages encouraged essential. Applicants well-versed Python JavaScript Scala mandatory. Proficiency learn us. Applicants working data machine learning solve problems Applicants demonstrated build code problems  Applicants initiative code engineers Applicants public 124\n",
      "Managing orchestration maintenance data pipelines Data Science products Providing DevOps operational support Architecture planning (Private Public cloud) Developing Development operation continuous integration .  Effectively high-   Develop tools environments Perform independent research product required  Monitoring automation / / issues environment Future- scalability Hands- coding teams environments Have / Excellent problem solving troubleshooting Strong DevOps orchestration . Ansible Airflow Docker Kubernetes Terraform Artifactory/Nexus Sonatype Cloud management AWS GCP Strong scripting e.g. Python Bash JavaScript Scala Rust Go Strong understanding Apache Spark/Flink Hadoop systems / (RabbitMQ Kafka) Strong understanding virtualization Experience testing response Experience machine integrate cloud computing e.g. Databricks KX Experience distributed systems Experience - /routing Breadth - OS computing 126\n",
      "Master Ph.D. Biomedical Engineering Computer Science Electrical Engineering relevant discipline. Possess 2  -performance Python machine . Familiar signal/image . Understand  - (ECG PPG biomedical/healthcare data) plus. Follows software development version control . Experience working Linux plus. Excellent written verbal communication . Good player. 127\n",
      "Core Java including developing APIs Knowledge SDLC practices Git Maven Mockito Junit . Knowledge Databases SQL No SQL Big Data . Knowledge Messaging system Kafka Rabbit MQ Apache Flink . Knowledge frameworks JDBC Caches . Knowledge like JSON XML Avro . Demonstrates strong technical required attention initiative / technical/analytical Drive Motivation - Successfully improve / face Client Business Focus - Effectively - business users / Teamwork  Gives evidence strong across members participate contribute Communication Skills - Communicates relevant important clear /new ideas others Good Amazon Cloud development. Ability integrate third frameworks development applicable Process engineering - Review risks procedures 128\n",
      "Core Java including developing APIs Knowledge SDLC practices Git Maven Mockito Junit . Knowledge Databases SQL No SQL Big Data . Knowledge Messaging system Kafka Rabbit MQ Apache Flink . Knowledge frameworks JDBC Caches . Knowledge like JSON XML Avro . Demonstrates strong technical required attention initiative / technical/analytical Drive Motivation - Successfully improve / face Client Business Focus - Effectively - business users / Teamwork  Gives evidence strong across members participate contribute Communication Skills - Communicates relevant important clear /new ideas others Good Amazon Cloud development. Ability integrate third frameworks development applicable Process engineering - Review risks procedures 129\n",
      "Research development methods - manipulation human- real-world applications. Closely collaborate researchers - based deep/reinforcement/machine learning. System integration modules multi- -   platforms. Work within systems tests real- deployments. Write outcome. PhD Computer Science Robotics Engineering fields Minimum 2 Years Fresh PhD worked closely apply Proven research human- publications. Experience machine/deep/reinforcement learning plus. Proficient programming (C/C++ Python). Extensive - implementations . Experience ROS Gazebo Moveit! OpenRave motion . Experience Tensorflow Keras OpenAI Gym PyTorch machine learning tools advantageous. Good analytical problem solving demonstrated - projects. Good communication . 133\n",
      "Ph.D degree Computer Science Electrical/Computer Engineering fields Experience Deep Learning approaches platforms (Tensorflow/Pytorch) Knowledge Machine Learning Natural Language Processing theory applications Familiar problems natural well state- - -art methods approaches problems Proficiency one programming language (Python) Passionate research development 134\n",
      "Research development motion detection camera / lidar coordination drone Algorithm development testing system integration modules world applications Actively collaborate researchers - system testing real- deployments Realisation algorithms developed suitable deployment optimizing algorithms allow real time processing PhD Mechanical Electrical Computer Science/Engineering Machine Learning fields Minimum 1  - research development Strong software development C/C++ Python Good ROS Linux / DDS middleware Familiarity motion planning works lidar / vision drone advantageous Experience Machine Learning motion planning Good communication player resourceful 136\n",
      "Develop software system detection & robot In one domains: Computer Vision algorithm  object detection & tracking Localization Lidar Camera GPS Build & Sensor tracking Embedded System  interfacing Model - Behavior planning  & Simulation  testing & Min. Bachelor Degree Robotics Engineer Engineering course Strong theoretical & practical / Demonstrate & understanding interest Experience developing robot Experience C++ Python ROS Git 152\n",
      "Ability learn Willingness learn Strong interest cybersecurity domain Minimum Bachelor degree field Computer Science Computer Engineering Mathematics Statistics Electrical Engineering  fields. Knowledge / cybersecurity network security system security system integration. Experience hackathons / ethical hacking huge plus. Industry certifications cybersecurity project management huge plus (e.g. CISSP OSCP CEH PMP). Knowledge data analytics machine learning beneficial. Ability independently translate research ideas programs industry standard coding practices. Proficient Python C Java. Good player research engineering ethics. Good interpersonal communication . 154\n",
      "PhD   computational  science/engineering mathematics fields 2   relevant Programming   R/python/perl/ /C++/Matlab/Java  similar Experience   analysis NGS - RNA- data  (preferred) Possess  machine learning AI background Experience   data implementation 160\n",
      "Research development algorithms changes real-time. Research develop algorithms sensor data PPG ECG. Research development algorithms patient . Design architect algorithms . Optimize data systems maintenance. Work APP developer deliver product. Documentation algorithms . Masters PhD Bioinformatics Statistics fields modelling machine learning Hands development end- - analytics data exploration/ building . Proficient programming Python Strong Programing C/C++ plus. Knowledge big data cloud computing/distributed computing data visualization. Background exposure healthcare plus. 163\n",
      "Coordinate   collect requirements   data processing analysis. Join   develop scalable data   -premise / public . Optimize   platform improve   reduce cost. Conduct   fundamental domains machine learning deep  learning distributed computing big data processing. Master   Bachelor degree Computer Science/Engineering Electrical Engineering  equivalent expertise development  experiences Have     : parallel distributed machine  learning Be  familiar large- storage/ workflow  platform HPC public Cloud Significant   multi- (e.g. C++ C# Java Python Go)  software development Excellent   verbal communication effectively  communicate members Background   data processing  preferable. 167\n",
      "Perform research support development real- system: physical modelling wind-wave modelling wave-current learning prediction Conduct extensive high-quality research develop integrated physical-numerical modelling & simulations combinations : physical experiments field / experimental sensing numerical simulations CFD / potential flow-based models relevant techniques data analytics Collaborate industry partners affiliated research institutes relevant stakeholders assist securing research grants. Any duties assigned supervisor. Bachelor Master Degree universities Physical Oceanography Ocean Engineering Naval Architecture Civil Engineering Applied Mathematics disciplines. Preferably 3 relevant research/industry competent : Deep wave-current wave modelling wind-wave modelling Physical modelling wave flume wave tank ocean basin. Hardware- - -loop (HIL) testing development Sensing data analytics machine learning. Knowledge /software : Higher Order Spectral Method (HOSM) Boundary Element Method (BEM) OpenFOAM StarCCM+ MIKE21 SELFE SWAN WAVE WATCH III Good interpersonal communications . Ability adapt effectively members . Good command written spoken English language. Resourceful self-driven high degree professional integrity. 168\n",
      "Perform research support development real- system: physical modelling wind-wave modelling wave-current learning prediction Conduct extensive high-quality research develop integrated physical-numerical modelling & simulations combinations : physical experiments field / experimental sensing numerical simulations CFD / potential flow-based models relevant techniques data analytics Collaborate industry partners affiliated research institutes relevant stakeholders assist securing research grants. Any duties assigned supervisor. Bachelor Master Degree universities Physical Oceanography Ocean Engineering Naval Architecture Civil Engineering Applied Mathematics disciplines. Preferably 3 relevant research/industry competent : Deep wave-current wave modelling wind-wave modelling Physical modelling wave flume wave tank ocean basin. Hardware- - -loop (HIL) testing development Sensing data analytics machine learning. Knowledge /software : Higher Order Spectral Method (HOSM) Boundary Element Method (BEM) OpenFOAM StarCCM+ MIKE21 SELFE SWAN WAVE WATCH III Good interpersonal communications . Ability adapt effectively members . Good command written spoken English language. Resourceful self-driven high degree professional integrity. 169\n",
      "BS/BA degree equivalent Advanced application data infrastructure architecture disciplines Manage support portfolio home- premise SaaS applications Make application      outside firm Work improve stability applications production environment Provide Level 3 production support applications production Identify opportunities Automate L3 tasks (Application Build Application Deployment .) Understanding software business analysis development maintenance software     improvement Working proficiency     developmental toolsets Knowledge industry wide     technology strategies best practices Ability large     collaborative teams achieve organizational goals passionate     building innovative culture Proficiency one     modern programming languages: Strong SQL (Experience      working Complex DB objects) Oracle SQL Server preferred Spring       Spring bootstrap Frontend      development (e.g. Angular) Source      code build & control tools preferably Maven Git Application      security protocols technologies (e.g. SFTP SSL OpenID Connect      Spring Security Architecture ) Micro-Service      architecture RESTful API based message based service e.g. QPID      ActiveMQ .NET      C# AWS       equivalent technologies Experience batch     data- controls ensuring     completeness data Migrate applications new     infrastructure environment including -      applications change      management application monitoring Ensure changes      including      steps 8 development      variety tools technologies 5      Java development 3+      tier 3 production operational     support 171\n",
      "BS/BA degree equivalent Advanced application data infrastructure architecture disciplines Manage support portfolio home- premise SaaS applications Make application      outside firm Work improve stability applications production environment Provide Level 3 production support applications production Identify opportunities Automate L3 tasks (Application Build Application Deployment .) Understanding software business analysis development maintenance software     improvement Working proficiency     developmental toolsets Knowledge industry wide     technology strategies best practices Ability large     collaborative teams achieve organizational goals passionate     building innovative culture Proficiency one     modern programming languages: Strong SQL (Experience      working Complex DB objects) Oracle SQL Server preferred Spring       Spring bootstrap Frontend      development (e.g. Angular) Source      code build & control tools preferably Maven Git Application      security protocols technologies (e.g. SFTP SSL OpenID Connect      Spring Security Architecture ) Micro-Service      architecture RESTful API based message based service e.g. QPID      ActiveMQ .NET      C# AWS       equivalent technologies Experience batch     data- controls ensuring     completeness data Migrate applications new     infrastructure environment including -      applications change      management application monitoring Ensure changes      including      steps 8 development      variety tools technologies 5      Java development 3+      tier 3 production operational     support Strong SQL (Experience      working Complex DB objects) Oracle SQL Server preferred Spring       Spring bootstrap Frontend      development (e.g. Angular) Source      code build & control tools preferably Maven Git Application      security protocols technologies (e.g. SFTP SSL OpenID Connect      Spring Security Architecture ) Micro-Service      architecture RESTful API based message based service e.g. QPID      ActiveMQ .NET      C# AWS       equivalent technologies 172\n",
      "Experience Java high applications Experience working Spring Boot Spring Cloud Experience defining RESTful APIs building RESTful Web Services Practical either SQL preferably Oracle NoSQL database Apache Cassandra Experience - based micro Understanding DevOps cloud architecture Experience micro designed scalability Ability large collaborative teams achieve organizational goals passionate building innovative culture Strong communication interpersonal Experience working mission performance STP platforms Experienced full across GUI Java DB(oracle) Experience CI tools like Jenkins similar Prior financial industry 173\n",
      "Collaborate product & users Lead analysis development & maintenance AI & ML models algorithms within product. Design develop & maintain data processing required AI/ML engine. Analyze data structured      unstructured data Collect requirement manager & architect solution architecture. Assist analysis user acceptance testing & implementation projects AI/ML used. Collaborate creation/enhancement data (Data Marts Cubes) making Assist      needed. Guide members use AI/Machine      Learning 2-3 overall 5+       . Specialization : Python programming R Data Analytics Data Processing & Ingestion Techniques. AWS tools & technologies 1-2 Machine Learning Artificial Intelligence techniques tools neural classification Familiarity data & data modelling Demonstrated passion analytics/AI & ML explore . Strong aptitude technologies analytics techniques Good communication . Self-motivated high degree intellectual curiosity attitude. Highly self-motivated independently well environment. 187\n",
      "Master/  Bachelor degree Computer Science Computer/ Electrical/ Electronic  Engineering Familiarity   programming languages Python Enthusiasm   willingness learn Experience   one : Knowledge representation (e.g.  Web Ontology Language OWL ProtÃ©gÃ©) Natural Language Processing  Probabilistic Modelling Inference Knowledge   / domain plus 188\n",
      "Good programming . object        oriented C/C++ programming Windows Strong problem solving         . 189\n",
      "Bachelor degree higher building /engineering machine-learning /computer- Previous topics urban analytics preferred Ability track record develop software one platforms Python Java Script Open CV PyTorch Tensor Flow 190\n",
      "Bachelor   Master degree Information Technology / Computer Science / Computer  Engineering / E-Commerce relevant discipline Programming   Python Perl essential Experience   Linux platform essential Experience   Software Configuration Management (SCM) tools Git  Maven Experience   Web (e.g. Apache) based  application Experience   Database MySQL Experience   Javascript framework backend front-end Nodejs jQuery 192\n",
      "BS/BA     degree equivalent Advanced     application data infrastructure architecture disciplines Manage support portfolio      home- premise      SaaS applications Make      application      outside firm Work improve stability      applications production environment Provide Level 3 production     support applications production Identify opportunities     Automate L3 tasks (Application Build Application Deployment .) Understanding software      business analysis development maintenance software     improvement Working proficiency     developmental toolsets Knowledge industry wide     technology strategies best practices Ability large     collaborative teams achieve organizational goals passionate     building innovative culture Proficiency one     modern programming languages: Strong SQL (Experience      working Complex DB objects) Oracle SQL Server preferred Spring       Spring bootstrap Frontend      development (e.g. Angular) Source      code build & control tools preferably Maven Git Application      security protocols technologies (e.g. SFTP SSL OpenID Connect      Spring Security Architecture ) Micro-Service      architecture RESTful API based message based service e.g. QPID      ActiveMQ .NET      C# AWS       equivalent technologies Experience batch     data- controls ensuring     completeness data Migrate applications new     infrastructure environment including -      applications change      management application monitoring Ensure changes      including      steps 8 development      variety tools technologies 5      Java development 3+      tier 3 production operational     support 194\n",
      "BS/BA degree equivalent Advanced application data infrastructure architecture disciplines Manage support portfolio home- premise SaaS applications Make   application outside firm Work improve stability applications production environment Provide Level 3 production support applications production Identify opportunities  Automate L3 tasks (Application Build Application Deployment .) Understanding software business analysis development maintenance software     improvement Working proficiency  developmental toolsets Knowledge industry wide technology strategies best practices Ability large  collaborative teams achieve organizational goals passionate     building innovative culture Proficiency one     modern programming languages: Strong SQL (Experience      working Complex DB objects) Oracle SQL Server preferred Spring       Spring bootstrap Frontend      development (e.g. Angular) Source      code build & control tools preferably Maven Git Application      security protocols technologies (e.g. SFTP SSL OpenID Connect  Spring Security Architecture ) Micro-Service      architecture RESTful API based message based service e.g. QPID  ActiveMQ .NET  C# AWS equivalent technologies Experience batch data- controls ensuring     completeness data Migrate applications new  infrastructure environment including -   applications change   management application monitoring Ensure changes   including    steps 8 development      variety tools technologies 5      Java development 3+      tier 3 production operational     support 195\n",
      "Work technology Location Intelligence Cloud Machine Learning Collaborate QA engineers Business Analysts Project Managers Operate Google Cloud Platform Google Maps Platform Oversee organization multi- level Provide coordination initiatives. Facilitate use Provide APAC Solutions Engineering Spearhead integration structure Solutions Engineering department Develop standards Share capabilities understanding best practices technology industry trends Implement technology Bachelor / Master degree Computer Science studies degree University. At 8 professional information software 2 role Extensive software development software engineering Highly Proficient working Linux environment Experience multi- scale Experience emerging cloud-based organization Demonstrate written communication Highly flexible Long Term environment. Our Executive Team Ex-Googlers. We hard ! We community. We operate . Our develop - . Every day advance field Location Intelligence. We mapping essential world quality performance. Learn BEST make . Our world. As make . At Navagis mapping deep learning . 196\n",
      "Resiliency  Engineer   methods gaps       Application development Continuous improvement  Proactive identification delivery  solutions monitoring /   . Performance Management  Partner Application Development Infrastructure Information      Security identify       . Delivery  Participate   architectural reviews ensure Production      non-functional requirements stories      definition done Change Management   act production order drive change      issues. 5+ within Application Design      throughout lifecycle Web application development (Angular.js Node.js J2EE Javascript) Strong understanding networking cloud technologies load      protocols Proven     incident/ . Cloud platforms technologies Amazon Web Services (required) Google Cloud     Platform Azure (beneficial) Cloud operations     Kubernetes Prometheus FluentD Slack ElasticSearch Grafana Kibana      . Understanding Java/J2EE      Experience Unix/Linux JDBC Strong developing event      DB services Cassandra MQ/JMS/Kafka     Aurora RDS Cloud SQL BigTable DynamoDB CockroachDB Cloud Spanner     Kinesis Cloud Pub/Sub . Strong XML technology     (XSD XPath XQuery XSLT) Proven Application Production Support Experience working DevOps environment Experience    infrastructure: Machine learning Distributed      Data structures algorithms Mobile application     development Familiar Chaos Engineering practices Cybersecurity Capable execute deliver   initiatives dynamic environment Good communication  verbal written lead manage  conference calls. Good collaboration   Ability independently   self-starter within environment. Comfortable fast     dynamic environment . Working Microsoft   Outlook Word Excel PowerPoint. Banking / financial 200\n",
      "Full development  APIs front- data Building Data Pipelines    scale Scaling Machine Learning Models trained data scientists production. Full stack: Typescript NodeJS Angular 6 Databases: Redis Elasticsearch Neo4j Kafka Cassandra Machine Learning: Tensorflow MXNet SageMaker Google Cloud ML DevOps: Docker Gitlab CI/CD ECS AWS GCP 2+ Years full- Experience Big Data technologies Cassandra / Kafka. Comfortable software patterns . 201\n",
      "Combine simulation Machine Learning order    (PL) Develop pre-trained PL -trained Deploy model group web based PV XSolar-Hetero At MSc ( Mathematics Computer Engineering) Expertise machine learning Expertise Python / PyTorch / Tensorflow 202\n",
      "As Cards SME production      incidents - participate L2 AD SMEs driving MTTD MTTR . Mission Control complex P1 issues assist resolution service required. Engaging Command Center end      improvements service       . The       - support Credit Card flows .      Ideally would Mainframe Middleware flow Distributed       supporting Card . The also      Cards Credit      Bureaus. Knowledge awareness Retail Lending       flows A university degree technology area -      equivalent Proven expertise environment  multiple techniques. Development       would Proficiency one general purpose programming (Java Python .Net C++ .) Understanding compliance       standards Ability collaboratively teams develop   goals Minimum 10 IT  teams Minimum 5  (Oracle/DB2/ SQL/ SQL Server/ UNIX/ Linux/ Java/ Java       JSP/ Spring/ Hibernate/ SOAP/ web services/ apache/ /WebSphere WebLogic Knowledge designing implementing DevOps organizations Knowledge across including Cloud architecture Continuous Integration  Agile teams   integration Production ready 204\n",
      "Design build maintain high- - - platform analytics Develop data trading market data systems. Design infrastructure libraries queries data. Design build market real time. Use data - necessary collect . Communication . Bachelors Master degree computer science engineering equivalent 1 2 professional data engineering/ Prior Experience Python/Java/Scala data analytics Strong object oriented structures algorithms patterns Strong communication Strong analytical problem solving Experience data analysis optimizations. Experience data processing Experience data processing systems handle Knowledge Experience KDB Experience Equities transaction market data Transaction Cost Analysis Prior used non- Over 3 Financial industry 207\n",
      "Take engineering       builds customer- providing       problems. Accurately       trade- members stakeholders       need . Stay industry       . Ship high features       end- - set delivery production support       deployments monitoring       . Self-driven care want write code scalability performance. 4+ designing Experience working : VueJS ReactJS Node.js TypeScript GraphQL MySQL/Postgres/MSSQL WebSocket Experience thought- applications future- ( .e. modify ) Expertise software architecture. Strong problem solving communication .  Passion emerging JavaScript machine learning technologies. Experience DevOps like Azure/AWS/ - maintenance Machine Learning/AI systems plus. Experience systems -functional requirements plus. 211\n",
      "Bachelors Degree Engineering Equivalent Must Java Python Must ML techniques implementation deep learning business- SDLC Git development Knowledge Apache Open NLP PDF BOX open frameworks Establishing Python techniques Teamwork  Gives evidence strong across members participate contribute Communication Skills - Communicates relevant important clear /new ideas others 212\n",
      "Bachelors Degree Engineering Equivalent Must Java Python Must ML techniques implementation deep learning business- SDLC Git development Knowledge Apache Open NLP PDF BOX open frameworks Establishing Python techniques Teamwork  Gives evidence strong across members participate contribute Communication Skills - Communicates relevant important clear /new ideas others 213\n",
      "Design learning models data pricing . Train data sets Axinan recommendation . Analyse data . Work storage processing pipelines. Work product managers develop new based insights data. Master PhD computer science mathematics fields big . Experience Python R. Knowledge supervised/ classification/ engineering/ vision. Experience deep search / preferred. Experience Hadoop Spark TensorFlow plus. Experience models/insights - ( mandatory). Outstanding analytical problem-solving . 223\n",
      "At 1 one Software Development / Algorithms Development / Machine Learning  Degree Computer Science Computer/Electrical Engineering equivalent At 1 one Software Development / Algorithms Development / Machine Learning Proficient Linux basic Linux Proficient languages Proficient Python libraries     Proficient frameworks/tools 226\n",
      "Analyze cyber Design develop new data metrics analytics Design experiments metrics validation Manage deliverables Improve code quality unit Deploy maintain enhance Produce Continuously discover technologies products Create Participate Bachelor Degree Masters Degree Computer Science Computer Engineering equivalent Curious self-motivated player 5-8 agile software development At 1 data structures Machine Learning - Strong Python Strong ReactJS Experience working REST API integration Comfortable Be willing stack Knowledge Cybersecurity plus 230\n",
      "Develop & - vision & algorithms 3D visualization & analytics Understand - - - approaches well Collaborate Research Scientists approaches Confidently challenges Refine level - Explore Collaborate members company integration company products Masters Bachelors ( Upper & ) Computer Science fields Knowledgeable 3D computer vision & techniques Knowledgeable machine learning Knowledgeable Matlab / Octave Python & C++ Motivated self-starter quick adapt supervision Active - -date industry trends Strong problem solver excellent communication (eg. presentations) Tenacity implementation Good time management organizational Ability desire collaboratively teams Research Computer Vision Graphics Relevant -lead project 231\n",
      "At 2 machine learning AI Experience one platforms: RASA Google Dialog Flow IBM Watson similar. At 3 one technologies: Python JAVA NodeJs Experience Big Data technologies Hadoop Spark preferred Experience  cloud- Amazon AWS Microsoft Azure You within Artificial Intelligence concepts applications clients scale. You support creation Artificial Intelligence development & contribute growth Digital AI collaborate teams (business & technical) . Your activities across AI development / integration applications opportunity interact . 234\n",
      "Computer Science/      Information Technology Information Systems Engineering Mathematics       relevant Major Excellent communication       analytical Ability teams Knowledge       programming languages- C/C++ C# Java JavaScript      Python .. Practical      wide variety software Collaborating hand- -hand       software engineers Shadowing mentoring       Opportunity participate       Flexible environment WFH      available. Compensation & Annual . 235\n",
      "Strong - Python R Octave Good . Understanding Machine Learning Neural Network Linear analysis Clustering anomaly detection NLP Topic Modelling Entity Recognition. Experience UI presentation QlikSense Power BI R Shiny orD3.js Strong SQL (Oracle MySQL MariaDB) Familiar Linux Develop data model meaningful impactful . Interpret data   SQL R Octave Python. Build QlikSense Power BI R Shinny. 236\n",
      "Conduct   development cutting learning  algorithms real Design   time series data analytics  feature . Work   data scientists engineers integrate learning  algorithms Machine Learning platform Collaborate   researchers A*STAR institutes well  industry partners translate real world  modelling data near  future PhD   Computer Science relevant field Strong  interest capability machine learning  learning Experience   machine learning Experience   time series data analytics Programming   Python Smart   individual tight   A   player - attitude Solid  communication problem-solving 237\n",
      "Design system architecture machine   backend Design develop APIs internal external  components Design optimize database learning  applications Design implement data security  machine Work data scientist /   platform Design tests robustness  scalability security Master Bachelor degree Computer Science relevant field Strong capabilities  platform Strong capabilities   Familiar ( machine   ) Cloud computing Background (e.g.  Kubernetes PBS) Experience storage MySQL MongoDB  S3 HDFS . Experiences passion machine learning deep learning AI   preferable Smart individual   A player - attitude Solid communication problem-solving 238\n",
      "PhD Computer Science relevant field Strong interest capability machine learning  learning Experience machine   Programming Python. Experience programming Matlab R Java C++   Scala plus. Smart individual   A player - attitude Solid communication problem-solving 239\n",
      "Knowledge . Design deployed machine cluster . Knowledge various machine learning algorithms used algorithms. Understanding networks / . A pertaining probability . Experience Apache Spark Hadoop big data storage retrieval analytics. Experience databases Redis Cassandra MongoDB . Great communication . A drive learn technologies. Knowledge programming languages   Matlab Python/Julia Go Java important. A Ph.D. relevant field preferred. 240\n",
      "Query large data      sets traditional (exploratory)       well advanced Analytics techniques. Apply machine learning      statistical techniques large data sets insights      present results business users. Use      analysis appropriate Analytics tools Analytics      development presentation insights visualization. Perform       solve      business trend relationships. Explore availability      new . Identify monitor       processes time. Work within      cross-functional teams business solutions       . At 2       data sets analytics      techniques. Strong mathematical      statistical background. Hands      machine analytics statistical modelling      must. Proficiency AWS Sage      Maker Preferably familiar      data visualization techniques one packages Tableau       visualization. 241\n",
      "Query large data      sets traditional (exploratory)       well advanced Analytics techniques. Apply machine learning      statistical techniques large data sets insights      present results business users. Use      analysis appropriate Analytics tools Analytics      development presentation insights visualization. Perform       solve      business trend relationships. Explore availability      new . Identify monitor       processes time. Work within      cross-functional teams business solutions       . At 2       data sets analytics      techniques. Strong mathematical      statistical background. Hands      machine analytics statistical modelling      must. Proficiency AWS Sage      Maker Preferably familiar      data visualization techniques one packages Tableau       visualization. 242\n",
      "Computational   modelling simulation EMI/  EMC electronics communication Lightning   HIRF systems RF/   New  algorithms/methods AI machine learning advanced  technologies PhD   electrical/ electronic engineering physics  discipline Deep  understanding physics fundamental Knowledge   / prior modelling / test EMI/EMC   / Familiar     . Knowledge   artificial intelligence (AI) machine learning advanced  computation would advantageous Proficient   CST HFSS FEKO Agilent ADS simulation  tools Experience   (C/C++ Python .) Good  oral written communication English Self- 243\n",
      "Factory Automation system (hardware software) implementations high- automotive . Understand cycle Requirement Study Design Development System Implementation. Provide troubleshooting . Design Develop end- system       specifications. Senior Engineer lead integration . Web-based/Mobile App development. SECS/GEM . Computer programming C++ .NET C# Visual Basic. Web Application programming Javascript JSP Servlets Java (J2SE J2EE) PHP/Perl HTML XML AJAX. Database: Oracle MySQL MS SQL MS Access. Knowledge machine learning artificial intelligence (AI) well analytic . Data Conversion (DAC ADC) I/O Interface Embedded Controller. Familiar Modbus GPIB . Knowledge PLC OPC Server/Client SCADA systems. Knowledge Apache/Tomcat Webserver. Experience Apache MYSQL PHP Linux Windows environment. Strong technical within large . Android & iOS development. Manufacturing Support. Project Management. Diploma Bachelor Degree Post Graduate Diploma / Professional Degree either Computer Science/Information Technology Computer/Telecommunication Engineering equivalent. Minimum 1  3 IT/Computer Software Engineering equivalent domain Semiconductor preferred. Entry encouraged apply. Good verbal written communication attitude . Willing travel. 2 full- available. Designation . 246\n",
      "To testing industry  environment. To    sensors To develop algorithms   / Write results local/  conferences papers. PhD  Engineering/ Physics equivalent Experience FEM SHM/NDT  projects. Strong background   - Ultrasonic waves. Familiarity ABAQUS ANSYS OnScale CIVA Added capabilities data  analysis application machine learning 247\n",
      "Master degree CS robotics field Bachelor 2+ At one one : SLAM sensor system Strong C++ / Python Experience -source libraries e.g. OpenCV PCL Familiarity sensors LIDAR IMU GPS radar Strong Linux ROS background Hands- implementation Strong analytical PhD CS robotics field Good   real- Hands working  challenges working performance Extensive system integration development Familiarity Git version control tools Publications field 248\n",
      "Oversee aspects cycle pre- discovery projects. Gather requirements translate designs. Understand client IT plans architecture architecture . Be client expertise Microsoft D365. Responsible managing deliverables . Manage coordination teams completion activities. Provide leadership application implementation roll- efforts. Minimum solid 3 - 5 proven track record Microsoft D365 (CRM ERP) /deployment . Exposure PowerBI Flow Big Data Machine Learning plus.   Must relevant Microsoft certifications. Hands- multi- multi- enterprise- focus /business development well engagement capable guidance expertise. Able region. Able perform role Enterprise Architect Lead Architect key Microsoft focus Dynamics suite solutions Azure. Ability resource/  requirements Strong presentation problem Have capacity participate . Deep understanding technology Experience teams organizations Experience involve business across lifecycle IT ( assessment analysis business management) Solid understanding issues platforms products 249\n",
      "Advanced application data infrastructure architecture disciplines Understanding architecture across systems Working proficiency developmental toolsets Ability collaborate high-performing teams throughout firm common goals Proficiency one general purpose programming languages Core Java Java EE Oracle PL/ SQL Python Understanding software business analysis development maintenance software improvement Support migration existing BAU Compliance Web FLEX/Java Script Web UI Sybase SQL back-end platform Be part Global Surveillance Technology AD across US APAC end build delivery Follow engineering SDLC best practices scalability Assist Level 3 production support. B.S. / M.S. degree Computer Science Engineering + application development mission-critical Trading Transactional Analytics core Java Java EE 5+ database programming -scale high-volume Oracle data PL/SQL Java Stored Procedures 3+ - UI UX Java WebUI technologies (Ext-JS D3.JS Angular-JS) Agile development.  Familiarity Maven Hudson Jenkins Gradle Ability pressure ownership issues. Sense solve problems Strong analytical problem-solving . Able multi- attention detail Application development enterprise Investment Banking application Market Surveillance Investment Banking Front-office Trading Systems Analytics Systems FX Commodities Equities Equities Derivatives domains Scala Python SpotFire Cloud Technology Experience KDB big data systems Experience Kafka streaming Financial Products Futures & Options FX Commodities Equities Equities Derivatives well / 250\n",
      "Advanced application data infrastructure architecture disciplines Understanding architecture across systems Working proficiency developmental toolsets Ability collaborate high-performing teams throughout firm common goals Proficiency one general purpose programming languages Core Java Java EE Oracle PL/ SQL Python Understanding software business analysis development maintenance software improvement Support migration existing BAU Compliance Web FLEX/Java Script Web UI Sybase SQL back-end platform Be part Global Surveillance Technology AD across US APAC end build delivery Follow engineering SDLC best practices scalability Assist Level 3 production support. B.S. / M.S. degree Computer Science Engineering + application development mission-critical Trading Transactional Analytics core Java Java EE 5+ database programming -scale high-volume Oracle data PL/SQL Java Stored Procedures 3+ - UI UX Java WebUI technologies (Ext-JS D3.JS Angular-JS) Agile development.  Familiarity Maven Hudson Jenkins Gradle Ability pressure ownership issues. Sense solve problems Strong analytical problem-solving . Able multi- attention detail Application development enterprise Investment Banking application Market Surveillance Investment Banking Front-office Trading Systems Analytics Systems FX Commodities Equities Equities Derivatives domains Scala Python SpotFire Cloud Technology Experience KDB big data systems Experience Kafka streaming Financial Products Futures & Options FX Commodities Equities Equities Derivatives well / 251\n",
      "A Masters degree Computer Science (CS) Computer Engineering (CE) Electrical Engineering (EE) focus networks. In case EE Power Systems SCADA development considered . Exceptional Bachelors CS CE EE relevant also considered. Basic exposure cyber security / machine learning / AI . Experience system software SCADA systems Familiar languages (C++ Java) scripting languages example Python Javascript Powershell . Good written verbal communication Willing 2 . 252\n",
      "A Masters degree Computer Science (CS) Computer Engineering (CE) Electrical Engineering (EE) focus networks. In case EE Power Systems SCADA development considered . Exceptional Bachelors CS CE EE relevant also considered. Basic exposure cyber security / machine learning / AI . Experience system software SCADA systems Familiar languages (C++ Java) scripting languages example Python Javascript Powershell . Good written verbal communication Willing 2 . 253\n",
      "Privacy ( privacy)  Statistical machine learning A PhD degree (computer science mathematics)  Good publication record   Experience research. 256\n",
      "Writing . Implement unit tests. Integration application components overall MLaaS . Implementation security . Support . Professional Experience ¢ 4+ relevant ¢ Experience machine learning data analysis plus qualifications Expert Python one Python Flask. Familiarity ORM (Object Relational Mapper) libraries SQLAlchemy. Good understanding server- languages Jinja 2. Basic understanding front-end technologies JavaScript HTML5 CSS3 Knowledge servers environments OAuth2 OpenID. Understanding fundamental . Strong unit test debugging . Proficient understanding tools Git. Degree Computer Science Computer Engineering courses. Familiarity ETL data advantageous. 257\n",
      "Master degree       CS robotics field Bachelor 2+ At one       one : SLAM       sensor system Strong       C++ / Python Experience       -source libraries e.g. OpenCV PCL Familiarity      sensors LIDAR IMU GPS radar Strong Linux      ROS background Hands-       implementation Strong      analytical PhD CS      robotics field Good       real- Hands       working      challenges working       performance Extensive       system integration development Familiarity      Git version control tools Publications       field 258\n",
      "Develop prototypes real-world applications Computer Vision Improve performance existing CV models - - - Develop algorithms data models solutions based state- - -art AI technology. Create products research fields Object detection Handwriting Recognition Document Image Segmentation Document Image Classification . Use technologies standards develop TAIGER product advise . Contribute development TAIGER solutions participate development implementation - systems. At  3 Computer Vision Machine Learning Deep Learning PhD MSc BSc computer science engineering equivalent. Demonstrated Image Classification Image Segmentation Object Detection. Hands- deep learning technologies familiar state- - - (e.g. TensorFlow PyTorch Keras ). Experience programming languages (Java C++ Python ). Strong problem-solving . Good communication -working . Experience applying CV techniques . Experience recognition recognition. Familiarity Deep Learning Model. 259\n",
      "Bachelor degree Startup preferred Min 3 Full Stack Development (Java NodeJS JavaScript) Passionate reliable APIs Interested prototyping Interested 260\n",
      "Efficient  machine learning / computing Machine  learning Model  development optimization  hardware. Ph.D.   Computer/Electrical Electronics Engineering field  required. Strong  programming abilities (e.g. C/C++ Python) Good  understanding deep learning/machine learning algorithms e.g.  tensorflow pytorch Good  communication player 269\n",
      "Master/Bachelor degree   Computer Science/Electrical & Electronics Engineering/Computer  Engineering equivalent Solid programming   Python C/C++ / MATLAB Experience one   AI Machine Learning Deep learning Computer Vision  Image Processing. Experience  Tensorflow - learning  platforms. Experience   applying AI real- Relevant   industry / Experience  development AI platform deployment  equivalent. Strong track record  research AI (e.g. publications ICML NeurIPS  ICLR AAAI CVPR ICCV ICCAD journals PIEEE JACM JMLR AIJ IJCV  IEEE Transactions ACM Transactions) 272\n",
      "Work lead also full support implementation JEE 3- . Web App including limited technology messaging REST API Work Agile Scrum teams internal Agile Scrum period . Such project familiar Work stakeholders partners data support models machine learning . Work closely clients/stakeholders requirements works Design manage maintain data models ETL management structured/unstructured data sources (e.g. - real- -real-time) Drive/ quality Support - - . Recognised degree Computer Science/Engineering Knowledge Engineering Information Systems Information Technology equivalent data engineering Technical expertise :  Java J2EE .NET C#  IBM WAS PureScale DB2 DataPower Cognos  MQ messaging equivalent Javascript Angular equivalent UI implementation Microservices implementation container/Kubernetes Relational/non-relational/NoSQL database enterprise data warehouse/ Big data technologies e.g. Hadoop Spark Hive HBase Data e.g. Flume Kafka NiFi Scripting programming software development e.g. Java C/C++ Python R MATLAB Scala SQL . Windows Linux environments. Completed 2 projects Agile Scrum approach Conducting Agile Scrum training also coach Implemented solutions full 5 Experience Machine Learning data management Experience implementing analytics solutions Experience software practices control Knowledge 275\n",
      "PhD degree   Computer Science/Electrical & Electronics Engineering/Computer  Engineering equivalent Solid  programming Python C/C++ / MATLAB Experience   one /topics AI Machine Learning Deep Learning  Computer Vision Image Processing Convolution Neural Networks Transfer  Learning Object Detection Multimodal Learning Cross-modal Learning Knowledge  Graph Medical Image Analysis Experience   applying AI real- Relevant   industry / Experience   development AI platform deployment  equivalent. Strong track  record research AI (e.g. publications ICML  NeurIPS ICLR AAAI CVPR ICCV ICCAD journals PIEEE JACM JMLR  AIJ IJCV IEEE Transactions ACM Transactions) 278\n",
      "Master/  Bachelor degree Computer Science/ Electrical & Electronics Engineering/  Computer Engineering equivalent Solid  programming Python C/C++ / MATLAB Experience   one AI Machine Learning Computer Vision Image  Processing Natural Language Processing 280\n",
      "PhD  degree Computer Science/Electrical & Electronics Engineering/ Computer  Engineering equivalent Solid  programming Python C/C++ / MATLAB Experience   one AI Machine Learning Computer Vision Image  Processing Natural Language Processing 281\n",
      "To learning techniques improve data analytics data internal . To advanced data analytics projects . To problem business data analytics. To support coordination IT needs. To help sources needs. To contribute SCOR Global Life publications. You strong statistics/mathematics/      statistical/ modelling. You ML NLP & languages (Python/R) -quality . You dynamic working . You interpersonal . You international context relationships SGL. You fluent English. Proficiency Chinese PLUS You SAS/R/Python. 282\n",
      "Bachelor Master Degree Computer Science Computer Engineering Information Security equivalent Experienced assessment security testing required Knowledge machine learning plus Proficient C/C++ Python Highly attitude Ability deliver Good communication 283\n",
      "Design write cutting edge GO language improve availability scalability latency efficiency Gra range services Work engineering explore create new / architectures geared towards scale performance Participate code reviews maintain high development standards Engage service capacity demand planning software performance analysis tuning optimization Collaborate product teams define prototype feature specifications Work closely infrastructure building scaling back-end services well performing root cause analysis investigations Design build analyze fix large-scale systems Learn full stack performance tuning optimization Debug modify complex production software A degree Computer Science Software Engineering Information Technology fields  strong Computer Science fundamentals algorithms data structures 5+ software engineering distributed systems environment Track record designing developing services. Strong understanding system performance scaling Possess excellent communication sharp analytical abilities proven think critically current system terms growth stability You coder language (C++ C Java Scala Rust Haskell OCaml Erlang Python Ruby PHP Node.JS C# .) willing Golang 287\n",
      "Perform research medical image processing approaches (2D 3D) image processing AI machine learning-   Conduct within SERI NTU line direction supervision Principal Investigators Collaborators  Manage - - environment technical   Publish publish research   Attend findings papers academic contribute department   Draft Principal Investigators   Undertake may required Principal Investigators   Attend participate ( necessary) within SERI NTU   Ensure compliance health safety aspects .   Ph.D. Biomedical Engineering Computer Science Computer Engineering discipline. Previous OCT software development OCT OCT would . Possess programming image processing (e.g. MATLAB Python). Able independently well - - . 288\n",
      "A Masters degree Computer Science (CS) Computer Engineering (CE) Electrical Engineering (EE) focus networks. In case EE Power Systems SCADA development considered . Exceptional Bachelors CS CE EE relevant also considered. Basic exposure cyber security / machine learning / AI . Experience system software SCADA systems Familiar languages (C++ Java) scripting languages example Python Javascript Powershell . Good written verbal communication Willing 2 . 289\n",
      "Sensor signal/ processing Algorithm development . Work processing algorithm POC test Define analysis validate Master PHD Degree  Electrical Engineering Computer Science Computer Electronics Engineering Math Physics   disciplines Minimum 5 pattern machine image processing controls.  Fresh PHD interest relevant welcome apply. C/C++ coding language e.g. Matlab Python Able OpenCV Tensorflow / Caffe Familiar cloud computing tools use Intel Movidius Neural Compute Stick Familiar plus Strong - attitude Ability multi-task fast-paced complex environment 290\n",
      "Manage development environments Providing DevOps operational support  Architecture planning (Private Public cloud) Be innovative - DevOps technology platform Future- scalability Manage development environments. Manage best Development operation continuous integration Monitoring automation / / issues environment Ability products required  Working techniques  Hands- coding   Working teams environments.  Ability high- environment  Knowledge Degree Diploma Computer Science/Engineering Information Technology Communications disciplines Excellent problem solving Strong Devops orchestration tools  Strong scripting e.g. Python Bash JavaScript Ruby Cloud management - AWS Azure Strong understanding practice Agile/Lean projects SCRUM KANBAN .  Strong understanding virtualization networking  Experience distributed systems  Machine Learning technologies environments  Breadth - OS computing 292\n",
      "You involved development phases multiple Interoperability projects. This . You also processes deployment products communicate HIT standards- HL7 IHE Profiles Direct SMART FHIR. Responsibilities include limited HL7 XML . The Integration Engineer development support . Develop interfaces PACS Installations Determine based customer . Closely . Works closely company members . This travel. Bachelor Degree Information Systems Computer Science Engineering Computer Information Systems Management Information Systems equivalent Experience SQL relational databases Experience Command Line Linux environments Experience Python Strong communication used clients Knowledge Radiology workflows Meticulous documentation Ability environment Experience libraries: Flask Pytest SQLAlchemy Requests Experience IHE (XDS.b XDS-I.b XCA) Experience HL7v2 standards Experience JSON SMART FHIR Experience / Pivotal Cloud Foundry Solid analytical decision-making Time critical thinking key client provide service. Good Positive attitude approach Self-starter independently supervision Demonstrated track record IT analytical creative A 297\n",
      "Conduct research development Artificial Intelligence Machine Learning applied Air Traffic Management (ATM) Develop algorithms data processing & mining future ATM systems Provide support implementation verification AI-based Remote Tower Control system Bachelor Degree higher Computer Science Aerospace Engineering Applied Mathematics (Bachelor Degree Master Degree ) Deep understanding theory application AI Machine Learning techniques Programming Experience Python Matlab R / C++ Demonstrated project Airport Air Traffic Management advantageous role Experience sound Software Engineering data version control database advantageous role Understanding statistical methods / plus Good English writing communication Independent player 301\n",
      "Experience working Eclipse / Maven environments Demonstrate Junit unit testing Hand fine tuning application response / performance testing Experience Web Services Experience Mule MQ / JMS (message transfer process) Experience version control tool GIT Understanding banking risk compliance policies Experience code scanning tools like black duck tools like Sonar Knowledge Microsoft Project Word Excel applications Experience development financial applications including financial transaction processing settlement accounting Familiarity SWIFT (Society Worldwide Interbank Financial Telecommunication) Message formats Experience working Eclipse / Maven environments Demonstrate Junit unit testing Hand fine tuning application response / performance testing Experience Web Services Experience Mule MQ / JMS (message transfer process) Experience version control tool GIT Understanding banking risk compliance policies Experience code scanning tools like black duck tools like Sonar Knowledge Microsoft Project Word Excel applications Experience development financial applications including financial transaction processing settlement accounting Familiarity SWIFT (Society Worldwide Interbank Financial Telecommunication) Message formats 303\n",
      "BS/BA degree equivalent Advanced application data infrastructure architecture disciplines Understanding architecture across systems Working proficiency developmental toolsets Knowledge industry wide technology trends best practices Ability large collaborative teams achieve organizational goals   passionate building innovative culture Proficiency one modern programming languages Understanding Business Functional Specifications Understanding existing program logic Providing / agreeing estimates required development Creation/ update Detailed Design Specifications Program Specifications program Version Control documentation Coding new programs changes existing programs Get code reviewed leads SME Creation Unit Test Plans execution Unit Tests Preparation execution Systems Test Plans Scripts Providing technical support Quality Assurance (QA) Testing Providing technical support User Acceptance Testing Creation Implementation/ Back Plans Support Handover Documents Providing technical support Production Implementations  post-implementation support implementation warranty period Experience working Eclipse / Maven environments Demonstrate Junit unit testing Hand fine tuning application response / performance testing Experience Web Services Experience Mule MQ / JMS (message transfer process) Experience version control tool GIT Understanding banking risk compliance policies Experience code scanning tools like black duck tools like Sonar Knowledge Microsoft Project Word Excel applications Experience development financial applications including financial transaction processing settlement accounting Familiarity SWIFT (Society Worldwide Interbank Financial Telecommunication) Message formats 306\n",
      "BS/BA degree equivalent Advanced application data infrastructure architecture disciplines Understanding architecture across systems Working proficiency developmental toolsets Knowledge industry wide technology trends best practices Ability large collaborative teams achieve organizational goals   passionate building innovative culture Proficiency one modern programming languages Understanding Business Functional Specifications Understanding existing program logic Providing / agreeing estimates required development Creation/ update Detailed Design Specifications Program Specifications program Version Control documentation Coding new programs changes existing programs Get code reviewed leads SME Creation Unit Test Plans execution Unit Tests Preparation execution Systems Test Plans Scripts Providing technical support Quality Assurance (QA) Testing Providing technical support User Acceptance Testing Creation Implementation/ Back Plans Support Handover Documents Providing technical support Production Implementations  post-implementation support implementation warranty period Experience working Eclipse / Maven environments Demonstrate Junit unit testing Hand fine tuning application response / performance testing Experience Web Services Experience Mule MQ / JMS (message transfer process) Experience version control tool GIT Understanding banking risk compliance policies Experience code scanning tools like black duck tools like Sonar Knowledge Microsoft Project Word Excel applications Experience development financial applications including financial transaction processing settlement accounting Familiarity SWIFT (Society Worldwide Interbank Financial Telecommunication) Message formats 307\n",
      "BS/BA degree equivalent Advanced application data infrastructure architecture disciplines Understanding architecture across systems Working proficiency developmental toolsets Knowledge industry wide technology trends best practices Ability large collaborative teams achieve organizational goals   passionate building innovative culture Proficiency one modern programming languages Understanding Business Functional Specifications Understanding existing program logic Providing / agreeing estimates required development Creation/ update Detailed Design Specifications Program Specifications program Version Control documentation Coding new programs changes existing programs Get code reviewed leads SME Creation Unit Test Plans execution Unit Tests Preparation execution Systems Test Plans Scripts Providing technical support Quality Assurance (QA) Testing Providing technical support User Acceptance Testing Creation Implementation/ Back Plans Support Handover Documents Providing technical support Production Implementations  post-implementation support implementation warranty period Experience working Eclipse / Maven environments Demonstrate Junit unit testing Hand fine tuning application response / performance testing Experience Web Services Experience Mule MQ / JMS (message transfer process) Experience version control tool GIT Understanding banking risk compliance policies Experience code scanning tools like black duck tools like Sonar Knowledge Microsoft Project Word Excel applications Experience development financial applications including financial transaction processing settlement accounting Familiarity SWIFT (Society Worldwide Interbank Financial Telecommunication) Message formats 308\n",
      "BS/BA degree equivalent Advanced application data infrastructure architecture disciplines Understanding architecture across systems Working proficiency developmental toolsets Knowledge industry wide technology trends best practices Ability large collaborative teams achieve organizational goals   passionate building innovative culture Proficiency one modern programming languages Understanding Business Functional Specifications Understanding existing program logic Providing / agreeing estimates required development Creation/ update Detailed Design Specifications Program Specifications program Version Control documentation Coding new programs changes existing programs Get code reviewed leads SME Creation Unit Test Plans execution Unit Tests Preparation execution Systems Test Plans Scripts Providing technical support Quality Assurance (QA) Testing Providing technical support User Acceptance Testing Creation Implementation/ Back Plans Support Handover Documents Providing technical support Production Implementations  post-implementation support implementation warranty period Experience working Eclipse / Maven environments Demonstrate Junit unit testing Hand fine tuning application response / performance testing Experience Web Services Experience Mule MQ / JMS (message transfer process) Experience version control tool GIT Understanding banking risk compliance policies Experience code scanning tools like black duck tools like Sonar Knowledge Microsoft Project Word Excel applications Experience development financial applications including financial transaction processing settlement accounting Familiarity SWIFT (Society Worldwide Interbank Financial Telecommunication) Message formats 309\n",
      "BS/BA degree equivalent Advanced application data infrastructure architecture disciplines Understanding architecture across systems Working proficiency developmental toolsets Knowledge industry wide technology trends best practices Ability large collaborative teams achieve organizational goals   passionate building innovative culture Proficiency one modern programming languages Understanding Business Functional Specifications Understanding existing program logic Providing / agreeing estimates required development Creation/ update Detailed Design Specifications Program Specifications program Version Control documentation Coding new programs changes existing programs Get code reviewed leads SME Creation Unit Test Plans execution Unit Tests Preparation execution Systems Test Plans Scripts Providing technical support Quality Assurance (QA) Testing Providing technical support User Acceptance Testing Creation Implementation/ Back Plans Support Handover Documents Providing technical support Production Implementations  post-implementation support implementation warranty period Experience working Eclipse / Maven environments Demonstrate Junit unit testing Hand fine tuning application response / performance testing Experience Web Services Experience Mule MQ / JMS (message transfer process) Experience version control tool GIT Understanding banking risk compliance policies Experience code scanning tools like black duck tools like Sonar Knowledge Microsoft Project Word Excel applications Experience development financial applications including financial transaction processing settlement accounting Familiarity SWIFT (Society Worldwide Interbank Financial Telecommunication) Message formats 310\n",
      "BS/BA degree equivalent Advanced application data infrastructure architecture disciplines Understanding architecture across systems Working proficiency developmental toolsets Knowledge industry wide technology trends best practices Ability large collaborative teams achieve organizational goals   passionate building innovative culture Proficiency one modern programming languages Understanding Business Functional Specifications Understanding existing program logic Providing / agreeing estimates required development Creation/ update Detailed Design Specifications Program Specifications program Version Control documentation Coding new programs changes existing programs Get code reviewed leads SME Creation Unit Test Plans execution Unit Tests Preparation execution Systems Test Plans Scripts Providing technical support Quality Assurance (QA) Testing Providing technical support User Acceptance Testing Creation Implementation/ Back Plans Support Handover Documents Providing technical support Production Implementations  post-implementation support implementation warranty period Experience working Eclipse / Maven environments Demonstrate Junit unit testing Hand fine tuning application response / performance testing Experience Web Services Experience Mule MQ / JMS (message transfer process) Experience version control tool GIT Understanding banking risk compliance policies Experience code scanning tools like black duck tools like Sonar Knowledge Microsoft Project Word Excel applications Experience development financial applications including financial transaction processing settlement accounting Familiarity SWIFT (Society Worldwide Interbank Financial Telecommunication) Message formats 311\n",
      "BS/BA degree equivalent Advanced application data infrastructure architecture disciplines Understanding architecture across systems Working proficiency developmental toolsets Knowledge industry wide technology trends best practices Ability large collaborative teams achieve organizational goals   passionate building innovative culture Proficiency one modern programming languages Understanding Business Functional Specifications Understanding existing program logic Providing / agreeing estimates required development Creation/ update Detailed Design Specifications Program Specifications program Version Control documentation Coding new programs changes existing programs Get code reviewed leads SME Creation Unit Test Plans execution Unit Tests Preparation execution Systems Test Plans Scripts Providing technical support Quality Assurance (QA) Testing Providing technical support User Acceptance Testing Creation Implementation/ Back Plans Support Handover Documents Providing technical support Production Implementations  post-implementation support implementation warranty period Experience working Eclipse / Maven environments Demonstrate Junit unit testing Hand fine tuning application response / performance testing Experience Web Services Experience Mule MQ / JMS (message transfer process) Experience version control tool GIT Understanding banking risk compliance policies Experience code scanning tools like black duck tools like Sonar Knowledge Microsoft Project Word Excel applications Experience development financial applications including financial transaction processing settlement accounting Familiarity SWIFT (Society Worldwide Interbank Financial Telecommunication) Message formats 312\n",
      "BS/BA degree equivalent Advanced application data infrastructure architecture disciplines Understanding architecture across systems Working proficiency developmental toolsets Knowledge industry wide technology trends best practices Ability large collaborative teams achieve organizational goals   passionate building innovative culture Proficiency one modern programming languages Understanding Business Functional Specifications Understanding existing program logic Providing / agreeing estimates required development Creation/ update Detailed Design Specifications Program Specifications program Version Control documentation Coding new programs changes existing programs Get code reviewed leads SME Creation Unit Test Plans execution Unit Tests Preparation execution Systems Test Plans Scripts Providing technical support Quality Assurance (QA) Testing Providing technical support User Acceptance Testing Creation Implementation/ Back Plans Support Handover Documents Providing technical support Production Implementations  post-implementation support implementation warranty period Experience working Eclipse / Maven environments Demonstrate Junit unit testing Hand fine tuning application response / performance testing Experience Web Services Experience Mule MQ / JMS (message transfer process) Experience version control tool GIT Understanding banking risk compliance policies Experience code scanning tools like black duck tools like Sonar Knowledge Microsoft Project Word Excel applications Experience development financial applications including financial transaction processing settlement accounting Familiarity SWIFT (Society Worldwide Interbank Financial Telecommunication) Message formats 313\n",
      "BS/BA degree equivalent Advanced application data infrastructure architecture disciplines Understanding architecture across systems Working proficiency developmental toolsets Knowledge industry wide technology trends best practices Ability large collaborative teams achieve organizational goals   passionate building innovative culture Proficiency one modern programming languages Understanding Business Functional Specifications Understanding existing program logic Providing / agreeing estimates required development Creation/ update Detailed Design Specifications Program Specifications program Version Control documentation Coding new programs changes existing programs Get code reviewed leads SME Creation Unit Test Plans execution Unit Tests Preparation execution Systems Test Plans Scripts Providing technical support Quality Assurance (QA) Testing Providing technical support User Acceptance Testing Creation Implementation/ Back Plans Support Handover Documents Providing technical support Production Implementations  post-implementation support implementation warranty period Experience working Eclipse / Maven environments Demonstrate Junit unit testing Hand fine tuning application response / performance testing Experience Web Services Experience Mule MQ / JMS (message transfer process) Experience version control tool GIT Understanding banking risk compliance policies Experience code scanning tools like black duck tools like Sonar Knowledge Microsoft Project Word Excel applications Experience development financial applications including financial transaction processing settlement accounting Familiarity SWIFT (Society Worldwide Interbank Financial Telecommunication) Message formats 314\n",
      "BS/BA degree equivalent Advanced application data infrastructure architecture disciplines Understanding architecture across systems Working proficiency developmental toolsets Knowledge industry wide technology trends best practices Ability large collaborative teams achieve organizational goals   passionate building innovative culture Proficiency one modern programming languages Understanding Business Functional Specifications Understanding existing program logic Providing / agreeing estimates required development Creation/ update Detailed Design Specifications Program Specifications program Version Control documentation Coding new programs changes existing programs Get code reviewed leads SME Creation Unit Test Plans execution Unit Tests Preparation execution Systems Test Plans Scripts Providing technical support Quality Assurance (QA) Testing Providing technical support User Acceptance Testing Creation Implementation/ Back Plans Support Handover Documents Providing technical support Production Implementations  post-implementation support implementation warranty period Experience working Eclipse / Maven environments Demonstrate Junit unit testing Hand fine tuning application response / performance testing Experience Web Services Experience Mule MQ / JMS (message transfer process) Experience version control tool GIT Understanding banking risk compliance policies Experience code scanning tools like black duck tools like Sonar Knowledge Microsoft Project Word Excel applications Experience development financial applications including financial transaction processing settlement accounting Familiarity SWIFT (Society Worldwide Interbank Financial Telecommunication) Message formats 315\n",
      "BS/BA degree equivalent Advanced application data infrastructure architecture disciplines Understanding architecture across systems Working proficiency developmental toolsets Knowledge industry wide technology trends best practices Ability large collaborative teams achieve organizational goals   passionate building innovative culture Proficiency one modern programming languages Understanding Business Functional Specifications Understanding existing program logic Providing / agreeing estimates required development Creation/ update Detailed Design Specifications Program Specifications program Version Control documentation Coding new programs changes existing programs Get code reviewed leads SME Creation Unit Test Plans execution Unit Tests Preparation execution Systems Test Plans Scripts Providing technical support Quality Assurance (QA) Testing Providing technical support User Acceptance Testing Creation Implementation/ Back Plans Support Handover Documents Providing technical support Production Implementations  post-implementation support implementation warranty period Experience working Eclipse / Maven environments Demonstrate Junit unit testing Hand fine tuning application response / performance testing Experience Web Services Experience Mule MQ / JMS (message transfer process) Experience version control tool GIT Understanding banking risk compliance policies Experience code scanning tools like black duck tools like Sonar Knowledge Microsoft Project Word Excel applications Experience development financial applications including financial transaction processing settlement accounting Familiarity SWIFT (Society Worldwide Interbank Financial Telecommunication) Message formats 316\n",
      "BS/BA degree equivalent Advanced application data infrastructure architecture disciplines Understanding architecture across systems Working proficiency developmental toolsets Knowledge industry wide technology trends best practices Ability large collaborative teams achieve organizational goals   passionate building innovative culture Proficiency one modern programming languages Understanding Business Functional Specifications Understanding existing program logic Providing / agreeing estimates required development Creation/ update Detailed Design Specifications Program Specifications program Version Control documentation Coding new programs changes existing programs Get code reviewed leads SME Creation Unit Test Plans execution Unit Tests Preparation execution Systems Test Plans Scripts Providing technical support Quality Assurance (QA) Testing Providing technical support User Acceptance Testing Creation Implementation/ Back Plans Support Handover Documents Providing technical support Production Implementations  post-implementation support implementation warranty period Experience working Eclipse / Maven environments Demonstrate Junit unit testing Hand fine tuning application response / performance testing Experience Web Services Experience Mule MQ / JMS (message transfer process) Experience version control tool GIT Understanding banking risk compliance policies Experience code scanning tools like black duck tools like Sonar Knowledge Microsoft Project Word Excel applications Experience development financial applications including financial transaction processing settlement accounting Familiarity SWIFT (Society Worldwide Interbank Financial Telecommunication) Message formats 317\n",
      "BS/BA degree equivalent Advanced application data infrastructure architecture disciplines Understanding architecture across systems Working proficiency developmental toolsets Knowledge industry wide technology trends best practices Ability large collaborative teams achieve organizational goals   passionate building innovative culture Proficiency one modern programming languages Understanding Business Functional Specifications Understanding existing program logic Providing / agreeing estimates required development Creation/ update Detailed Design Specifications Program Specifications program Version Control documentation Coding new programs changes existing programs Get code reviewed leads SME Creation Unit Test Plans execution Unit Tests Preparation execution Systems Test Plans Scripts Providing technical support Quality Assurance (QA) Testing Providing technical support User Acceptance Testing Creation Implementation/ Back Plans Support Handover Documents Providing technical support Production Implementations  post-implementation support implementation warranty period Experience working Eclipse / Maven environments Demonstrate Junit unit testing Hand fine tuning application response / performance testing Experience Web Services Experience Mule MQ / JMS (message transfer process) Experience version control tool GIT Understanding banking risk compliance policies Experience code scanning tools like black duck tools like Sonar Knowledge Microsoft Project Word Excel applications Experience development financial applications including financial transaction processing settlement accounting Familiarity SWIFT (Society Worldwide Interbank Financial Telecommunication) Message formats 318\n",
      "BS/BA degree equivalent Advanced application data infrastructure architecture disciplines Understanding architecture across systems Working proficiency developmental toolsets Knowledge industry wide technology trends best practices Ability large collaborative teams achieve organizational goals   passionate building innovative culture Proficiency one modern programming languages Understanding Business Functional Specifications Understanding existing program logic Providing / agreeing estimates required development Creation/ update Detailed Design Specifications Program Specifications program Version Control documentation Coding new programs changes existing programs Get code reviewed leads SME Creation Unit Test Plans execution Unit Tests Preparation execution Systems Test Plans Scripts Providing technical support Quality Assurance (QA) Testing Providing technical support User Acceptance Testing Creation Implementation/ Back Plans Support Handover Documents Providing technical support Production Implementations  post-implementation support implementation warranty period Experience working Eclipse / Maven environments Demonstrate Junit unit testing Hand fine tuning application response / performance testing Experience Web Services Experience Mule MQ / JMS (message transfer process) Experience version control tool GIT Understanding banking risk compliance policies Experience code scanning tools like black duck tools like Sonar Knowledge Microsoft Project Word Excel applications Experience development financial applications including financial transaction processing settlement accounting Familiarity SWIFT (Society Worldwide Interbank Financial Telecommunication) Message formats 319\n",
      "BS/BA degree equivalent Advanced application data infrastructure architecture disciplines Understanding architecture across systems Working proficiency developmental toolsets Knowledge industry wide technology trends best practices Ability large collaborative teams achieve organizational goals   passionate building innovative culture Proficiency one modern programming languages Understanding Business Functional Specifications Understanding existing program logic Providing / agreeing estimates required development Creation/ update Detailed Design Specifications Program Specifications program Version Control documentation Coding new programs changes existing programs Get code reviewed leads SME Creation Unit Test Plans execution Unit Tests Preparation execution Systems Test Plans Scripts Providing technical support Quality Assurance (QA) Testing Providing technical support User Acceptance Testing Creation Implementation/ Back Plans Support Handover Documents Providing technical support Production Implementations  post-implementation support implementation warranty period Experience working Eclipse / Maven environments Demonstrate Junit unit testing Hand fine tuning application response / performance testing Experience Web Services Experience Mule MQ / JMS (message transfer process) Experience version control tool GIT Understanding banking risk compliance policies Experience code scanning tools like black duck tools like Sonar Knowledge Microsoft Project Word Excel applications Experience development financial applications including financial transaction processing settlement accounting Familiarity SWIFT (Society Worldwide Interbank Financial Telecommunication) Message formats 320\n",
      "Develop operate optimize performance IT reliable decision making. Build scalable reliable ETL pipelines processes data data sources. Work -real- application cases API- cases. Build BI web applications insights dashboards . Support databases like Elasticsearch. Deploy manage data dashboards Troubleshooting issues focus impact end users. Applying best practices scaling . Good developer language preferably Python SQL Real passion data technologies company needs Experience implementation operation ELK stack mandatory. Experience ELK Machine Learning Module preferred. Show track record end- - ELK projects ELK dashboard. Experience tools Ansible Terraform . Knowledge orchestration tools like Kubernetes . Experience building services Experience tools (e.g. Nagios Prometheus) plus. Experience Splunk plus. 321\n",
      "At 1 coding Python SQL JavaScript.  At 2 Visualisation tools Tableau QlikSense PowerBI . At 2 DWH techniques ( ) . At 2 developing Machine Learning -based DWH Experience Python backend Frameworks Completed 1 data  implementation Front- (HTML/ CSS/ JavaScript JavaScript frameworks (e.g. angular) visualization libraries D3 Kibana I2) 329\n",
      "Lead APAC Collections managing day improvements Develop execute initiatives customers market Engineering implementation tools Work closely vendors & metrics improvements SLA Partner Facebook development terms & Other initiatives area Bachelor degree + relevant managing APAC Collections operations leadership role Experience - - company Proven managing diverse leadership passion Highly collaborative player regional Experience working systems & tools technologies analytics machine Strong business management effectively stakeholders customers C- Experience / working BPO models Ability operate fast-paced environment well highly- 330\n",
      "Develop test maintain large-scale data processing systems Design develop data  pipelines/systems data production Ensure data architecture ad- data analytics stakeholders business Leverage variety programming languages / highly available use descriptive Recommend improve data flexibility efficiency Discover opportunities data  acquisition primary sources Ensure stored information access Bachelor Master degree Computer Science Computer Engineering Information Systems At 5 working data architecture data warehousing ETL/ELT At 3 working AWS familiar solutions EC2 S3 EMR Redshift Athena Kinesis Advanced programming Java Hadoop Apache Spark Scala Hive Pig Hands- data data Hands- structured/unstructured/ - Programming Python R SQL processing Experience data pipeline implementation ETL/ELT In-depth MPP   Ability algorithms   learning & statistical models plus Excellent verbal written  communications English Chinese Excellent time management Team player 331\n",
      "Carry research field classification Implement machine learning algorithms analytics techniques classification Write papers requirements projects Present workshops Master degree Computer Science Computer Engineering Good background deep learning reinforcement learning ANN CNN efficient CNN Good understanding experiences classification Good communication writing English 335\n",
      "Candidate possess Bachelor Degree Post Graduate Diploma Professional Degree Engineering (Computer/Telecommunication) Computer Science/Information Technology equivalent. At 5 Java - Min 5  tuning strong Experience working NoSQL databases Cassandra Knowledge RESTful APIs Working messaging - UM Kafka Good understanding ISO20022 standard Familiar UNIX operating system scripting Strong analytical troubleshooting Good communication Able independently multi task 336\n",
      "Candidate possess Bachelor Degree Post Graduate Diploma Professional Degree Engineering (Computer/Telecommunication) Computer Science/Information Technology equivalent. At 5 Java - Min 5  tuning strong Experience working NoSQL databases Cassandra Knowledge RESTful APIs Working messaging - UM Kafka Good understanding ISO20022 standard Familiar UNIX operating system scripting Strong analytical troubleshooting Good communication Able independently multi task 337\n",
      "Bachelor Degree 3-5  consulting Excellent communications inter-personal passion At 1 delivering RPA projects UiPath Automation Anywhere platforms Knowledge one preferred mandatory - ABBYY FlexiCapture Google AI Machine Learning Amazon Rekognition . Experience based one technologies 341\n",
      "Develop  data /pipelines technologies Involve   development maintenance - Assist   development image Assist   development computational/machine learning models Collaborate   EDDC inter-   . PhD Computational Biology/Bioinformatics/Computer  Science In-depth   Skilled   programming languages e.g. python High  motivated learn new required projects Working   ( modelling)  techniques Familiar   machine learning statistical analysis Creative   player Able   communicate effectively (verbal  written) Knowledge   web application / database development 347\n",
      "As Delivery Lead responsible managing solution development planning development Work closely engineering Work problem- . Be - The must close technology implemented development Plan - ecosystem customer marketing. Monitor control phases development process analysis implementation well operational support business users Ready resolve issues solve cycle Ensure followed processes Appropriately firm Citigroup clients assets Policy managing issues . Qualifications: 7+ Real-time data Data machine Strong Java Good technologies like Kafka 3 Proficiency Agile software methodologies Demonstrated success projects Strong understanding project Rapidly adapt respond changes Extensive Excellent verbal written communication concepts technical non- Experience banking financial preferred. Bachelor degree/University degree equivalent 349\n",
      "BS/BA degree equivalent Advanced application data infrastructure architecture disciplines Understanding architecture across systems Working proficiency developmental toolsets Knowledge industry wide technology trends best practices Ability large collaborative teams achieve organizational goals passionate building innovative culture Proficiency one modern programming languages Mandatory - Java/J2EE RDBMS Good  Some one - ETL/BI tools Big data API/Microservices Understanding software business analysis development maintenance software improvement Knowledge Devops model continuous automated integration test delivery Experience working -shore teams matrix reporting Experience finance industry data warehousing regulatory reporting business intelligence big data . BS/BA degree equivalent Advanced application data infrastructure architecture disciplines Understanding architecture across systems Working proficiency developmental toolsets Knowledge industry wide technology trends best practices Ability large collaborative teams achieve organizational goals passionate building innovative culture Proficiency one modern programming languages Mandatory - Java/J2EE RDBMS Good  Some one - ETL/BI tools Big data API/Microservices Understanding software business analysis development maintenance software improvement Knowledge Devops model continuous automated integration test delivery Experience working -shore teams matrix reporting Experience finance industry data warehousing regulatory reporting business intelligence big data . 350\n",
      "Python Developer Machine Learning Designs Work closely Client . Support production resolution incidents maintain stability integrity Application. Bachelor degree Computer Science relevant field Minimally 1 Python Programming Language Understanding web applications JavaScript frameworks REST web services Preferrably Machine Learning product development 351\n",
      "BS/BA degree equivalent Advanced application data infrastructure architecture disciplines Understanding architecture across systems Working proficiency developmental toolsets Knowledge industry wide technology trends best practices Ability large collaborative teams achieve organizational goals passionate building innovative culture Proficiency one modern programming languages Primary - Oracle PL/SQL Java/J2EE Secondly  Some one - ETL/BI tools Big data API/Microservices Understanding software business analysis development maintenance software improvement Knowledge Devops model continuous automated integration test delivery Experience working -shore teams matrix reporting Experience finance industry data warehousing regulatory reporting business intelligence big data . 352\n",
      "BS/BA degree equivalent Advanced application data infrastructure architecture disciplines Understanding architecture across systems Working proficiency developmental toolsets Knowledge industry wide technology trends best practices Ability large collaborative teams achieve organizational goals passionate building innovative culture Proficiency one modern programming languages Primary - Oracle PL/SQL Java/J2EE Secondly  Some one - ETL/BI tools Big data API/Microservices Understanding software business analysis development maintenance software improvement Knowledge Devops model continuous automated integration test delivery Experience working -shore teams matrix reporting Experience finance industry data warehousing regulatory reporting business intelligence big data . 353\n",
      "BS/BA degree equivalent Advanced application data infrastructure architecture disciplines Understanding architecture across systems Working proficiency developmental toolsets Knowledge industry wide technology trends best practices Ability large collaborative teams achieve organizational goals passionate building innovative culture Proficiency one modern programming languages Primary - Oracle PL/SQL Java/J2EE Secondly  Some one - ETL/BI tools Big data API/Microservices Understanding software business analysis development maintenance software improvement Knowledge Devops model continuous automated integration test delivery Experience working -shore teams matrix reporting Experience finance industry data warehousing regulatory reporting business intelligence big data . 354\n",
      "BS/BA degree equivalent Advanced application data infrastructure architecture disciplines Understanding architecture across systems Working proficiency developmental toolsets Knowledge industry wide technology trends best practices Ability large collaborative teams achieve organizational goals passionate building innovative culture Proficiency one modern programming languages Primary - Oracle PL/SQL Java/J2EE Secondly  Some one - ETL/BI tools Big data API/Microservices Understanding software business analysis development maintenance software improvement Knowledge Devops model continuous automated integration test delivery Experience working -shore teams matrix reporting Experience finance industry data warehousing regulatory reporting business intelligence big data . 355\n",
      "BS/BA degree equivalent Advanced application data infrastructure architecture disciplines Understanding architecture across systems Working proficiency developmental toolsets Knowledge industry wide technology trends best practices Ability large collaborative teams achieve organizational goals passionate building innovative culture Proficiency one modern programming languages Mandatory - Java/J2EE RDBMS Good  Some one - ETL/BI tools Big data API/Microservices Understanding software business analysis development maintenance software improvement Knowledge Devops model continuous automated integration test delivery Experience working -shore teams matrix reporting Experience finance industry data warehousing regulatory reporting business intelligence big data . 356\n",
      "BS/BA degree equivalent Advanced application data infrastructure architecture disciplines Understanding architecture across systems Working proficiency developmental toolsets Knowledge industry wide technology trends best practices Ability large collaborative teams achieve organizational goals passionate building innovative culture Proficiency one modern programming languages Mandatory - Java/J2EE RDBMS Good  Some one - ETL/BI tools Big data API/Microservices Understanding software business analysis development maintenance software improvement Knowledge Devops model continuous automated integration test delivery Experience working -shore teams matrix reporting Experience finance industry data warehousing regulatory reporting business intelligence big data . 357\n",
      "BS/BA degree equivalent Advanced application data infrastructure architecture disciplines Understanding architecture across systems Working proficiency developmental toolsets Knowledge industry wide technology trends best practices Ability large collaborative teams achieve organizational goals passionate building innovative culture Proficiency one modern programming languages Mandatory - Java/J2EE RDBMS Good  Some one - ETL/BI tools Big data API/Microservices Understanding software business analysis development maintenance software improvement Knowledge Devops model continuous automated integration test delivery Experience working -shore teams matrix reporting Experience finance industry data warehousing regulatory reporting business intelligence big data . 358\n",
      "BS/BA degree equivalent Advanced application data infrastructure architecture disciplines Understanding architecture across systems Working proficiency developmental toolsets Knowledge industry wide technology trends best practices Ability large collaborative teams achieve organizational goals passionate building innovative culture Proficiency one modern programming languages Mandatory - Java/J2EE RDBMS Good  Some one - ETL/BI tools Big data API/Microservices Understanding software business analysis development maintenance software improvement Knowledge Devops model continuous automated integration test delivery Experience working -shore teams matrix reporting Experience finance industry data warehousing regulatory reporting business intelligence big data . 359\n",
      "BS/BA degree equivalent Advanced application data infrastructure architecture disciplines Understanding architecture across systems Working proficiency developmental toolsets Knowledge industry wide technology trends best practices Ability large collaborative teams achieve organizational goals passionate building innovative culture Proficiency one modern programming languages Mandatory - Java/J2EE RDBMS Good  Some one - ETL/BI tools Big data API/Microservices Understanding software business analysis development maintenance software improvement Knowledge Devops model continuous automated integration test delivery Experience working -shore teams matrix reporting Experience finance industry data warehousing regulatory reporting business intelligence big data . 360\n",
      "BS/BA degree equivalent Advanced application data infrastructure architecture disciplines Understanding architecture across systems Working proficiency developmental toolsets Knowledge industry wide technology trends best practices Ability large collaborative teams achieve organizational goals passionate building innovative culture Proficiency one modern programming languages Mandatory - Java/J2EE RDBMS Good  Some one - ETL/BI tools Big data API/Microservices Understanding software business analysis development maintenance software improvement Knowledge Devops model continuous automated integration test delivery Experience working -shore teams matrix reporting Experience finance industry data warehousing regulatory reporting business intelligence big data . 361\n",
      "BS/BA degree equivalent Advanced application data infrastructure architecture disciplines Understanding architecture across systems Working proficiency developmental toolsets Knowledge industry wide technology trends best practices Ability large collaborative teams achieve organizational goals passionate building innovative culture Proficiency one modern programming languages Mandatory - Java/J2EE RDBMS Good  Some one - ETL/BI tools Big data API/Microservices Understanding software business analysis development maintenance software improvement Knowledge Devops model continuous automated integration test delivery Experience working -shore teams matrix reporting Experience finance industry data warehousing regulatory reporting business intelligence big data . 362\n",
      "BS/BA degree equivalent Advanced application data infrastructure architecture disciplines Understanding architecture across systems Working proficiency developmental toolsets Knowledge industry wide technology trends best practices Ability large collaborative teams achieve organizational goals passionate building innovative culture Proficiency one modern programming languages Mandatory - Java/J2EE RDBMS Good  Some one - ETL/BI tools Big data API/Microservices Understanding software business analysis development maintenance software improvement Knowledge Devops model continuous automated integration test delivery Experience working -shore teams matrix reporting Experience finance industry data warehousing regulatory reporting business intelligence big data . 363\n",
      "Several   development C# .NET language set packages tools - Strong JavaScript  bonus TypeScript Deep familiarity one front-end JavaScript frameworks e.g. Knockout React AngularJS Vue.js Appreciation -designed well- code The effectively definition problem come solutions problems Deep database either SQL NoSQL databases TDD Expertise tests A strong data A keen sense HTML CSS back Expertise working e.g. Azure Search Elastic Search Solr A strong background Azure Experience Azure DevOps Git You ( ) code review Experience Business Intelligence data data mining Snowflake Hadoop Experience technologies e.g. Docker Vagrant Kubernetes Experience blockchain technology A sense love programming communicate effectively organisation 364\n",
      "Degree communications relevant field study 4+ /marketing logistics ( execution) small large Ability project management Ability travel independently AWS Cloud basic . Understand artificial intelligence machine learning. End execution   follow Align & Calibrate      Work closely internal   project Develop  execute  approach new Report & track project player progress Advocate relevant new keep . 365\n",
      "Develop prototypes real-world applications Computer      Vision Improve performance existing CV models various state- - - Develop algorithms data models solutions based state- - -art AI technology. PhD MSc BSc computer science engineering technical      disciplines equivalent. At  2 Computer Vision Machine Learning Deep Learning Develop prototypes real-world applications Computer Vision Improve   performance existing CV models - - -art      algorithms Develop algorithms data models solutions based      state- - -art AI technology. Create  products research fields Object      detection Image Segmentation Image Classification . Demonstrated  Image Classification Image Segmentation Object  Detection. Hands- deep learning technologies familiar      state- - - (e.g. TensorFlow PyTorch Keras       ). Experience Hybrid Mobile App Development (iOS/Android Devices) would big       Experience   programming languages (Java C++ Python ). 368\n",
      "Frontend Backend development GUIs results Scanner technologies. Ability platforms based use-cases. Work closely Cloud Engineers map regarding deployment GUIs Cloud web applications. Co- Data Scientists System Integrators develop REST APIs trained Machine Learning models allow integration models GUIs. Make Sure established GUI low latency - . Design GUIs client-friendly understanding client point view. A Bachelor / Master degree Computer Science Information Engineering & familiarity. Need excellent understanding computer science data structures algorithms. Knowledge OOP language like Python Java C++. Passion code discover new things Understanding working Django framework. Expertise CSS / Python / JAVAScript / HTML /  REST APIs version control GitHub. Knowledge -friendly UIs. Experience software development life-cycle DevOps. Experience AWS services data storage retrieval basic SQL. 370\n",
      "Support Research Fellow( ) Associates research demonstrate deliver Image/Vision AI capabilities Interface Rolls-Royce business technical stakeholders align R&D outcomes Actively / techniques / proposals improvements Lead creation new IP (Papers Invention Disclosures Patents) Active NTU Professors Rolls-Royce leaders mapping technical Master degree (preferably Ph.D) Science Engineering Mathematics discipline interest prior one : Computer Vision Image/Video Analytics Processing Machine Learning AI Visualization Evidence publications Numerical/Scientific computing Python Excellent / prototyping research ideas Excellent 374\n",
      "Good programming . object        oriented C/C++ programming Windows Strong problem solving         . 383\n",
      "Frontend Backend development GUIs results Scanner technologies. Ability platforms based use-cases. Work closely Cloud Engineers map regarding deployment GUIs Cloud web applications. Co- Data Scientists System Integrators develop REST APIs trained Machine Learning models allow integration models GUIs. Make Sure established GUI low latency - . Design GUIs client-friendly understanding client point view. A Bachelor / Master degree Computer Science Information Engineering & familiarity. Need excellent understanding computer science data structures algorithms. Knowledge OOP language like Python Java C++. Passion code discover new things Understanding working Django framework. Expertise CSS / Python / JAVAScript / HTML /  REST APIs version control GitHub. Knowledge -friendly UIs. Experience software development life-cycle DevOps. Experience AWS services data storage retrieval basic SQL. 386\n",
      "monitoring analysis vessels marine Bayesian online instrumentation  ships marine structures physical experiments field / experimental sensing numerical simulations FEM relevant techniques data analytics Bachelor Master degree Offshore/Civil/Structural/Mechanical Engineering Naval Architecture Applied Mathematics disciplines. Preferably 3 relevant research/industry competent : 389\n",
      "PhD   Computer Science/Engineering equivalent  expertise Have   research one : high   machine distributed computing   IoT . Good  programming : multi-language (C++ C# Java Python CUDA programming)   (TCP/IP Socket) parallel programming (multi- OpenMP   MPI). Knowledge  background project machine learning models platforms  (e.g. TensorFlow PyTorch). Hands-  experiences network Linux OS  (e.g. Xen KVM Docker) cloud  database Understanding   HPC applications industry   preferred 391\n",
      "Shape EasyMile data platform manipulating across - platforms Leverage workflows. Ensuring data efficiently Define Implement / workflows optimization machine learning Develop optimize learning ( ) (e.g. databases / ( )) Employ learning statistical methods use predictive modeling Collaborate cross teams software engineers data scientists others. Bachelor Degree Computer Science Computer Engineering field Experience Data Engineer Software Developer similar. Demonstrable aptitude Python development Experience working cloud- (AWS GCP) Experience data processing / ETL implementation (e.g. Beam Airflow Dataflow Spark) Experience building Good SQL Airflow DataFlow Spark Containers Docker Kubernetes Experience real- -processing systems (e.g. Kafka) Very oral written English. Experience Tensorflow KubeFlow Experience AI algorithm Experience Interviewer 1 meeting Singapour Team Manager 1 case-study office 1 via Hangout (based Toulouse-France) Contract Type: Full-Time Start Date: 15 March Location: Singapour Singapore ( ) Education Level: Master Degree Experience: 2 392\n",
      "Work stakeholders model meaningful impactful processes / decisions Identify data available relevant problem solving Design Implement analytical models production collaborating machine Maintain clear communication verbal written understand Collaborate communicate resolution Keep current technical Provide guidance mentoring experienced members PhD. Master degree Computer Science / Statistics / Mathematics / Physics quantitative discipline Possess minimum 3  data analysis/machine learning/deep learning Deep understanding machine learning/data mining algorithms techniques Experiences processing analyzing structured unstructured data Solid big data tools Spark Hadoop MapReduce . Proficiency one programming limited : Python Java Scala R Strong analytical problem solving Ability effectively results customers Comfort working dynamic R&D group projects 393\n",
      "Crack business problems come learning models Interface business make sure       Sift data Be world-class - An coding statistics machine learning (2 working research must) A theory practice strong desire learn keep ( PhD points) Hands- experiences understanding various machine learning algorithms (e.g. Gradient Boosting Random Forest SVM Deep Neural Networks RNN CNN Transformer .) A  Under  statistical methods Coding (Python Java C++ Scala R ) Some points : SQL NLP image writing 394\n",
      "Crack business problems come      machine learning models Interface business make sure       Sift data Be world-class - An coding statistics machine learning (5 working research must) A theory practice strong      desire learn keep ( PhD points) Hands- experiences understanding various machine learning algorithms (e.g. Gradient Boosting Random Forest SVM Deep Neural Networks RNN CNN Transformer .) A  Under  statistical methods The experiences Coding (Python Java C++ Scala R ) Project NLP models (e.g. ) Some points : SQL NLP image writing 395\n",
      "Build models Predictive Analysis Regression Forecasting Artificial Intelligence Machine Learning techniques. Collaborate members stakeholders. Ask risks new ideas. Engineering master bachelor degree Doctorate (PhD) fields Deep understanding machine learning statistical analysis 3+ Years techniques Strong data manipulation SQL python/R Must analytical quantitative . Experience working time series data analytics Excellent problem-solving pressure. Ability respond . A great player. Ability designs . Ability clearly effectively communicate solutions teams clients. Be open . Research industry technologies. 397\n",
      "Advanced application data infrastructure architecture disciplines Understanding architecture across systems Working proficiency developmental toolsets Knowledge industry wide technology strategies best practices Ability large collaborative teams achieve organizational goals passionate building innovative culture Proficiency one general purpose programming languages Java Python JavaScript Go . Understanding software business analysis development maintenance software improvement Hands- CloudFoundry Kubernetes DC/OS Heroku AWS GCP Azure . Strong inter-personal passion interact clients Exposure SLOs . tools like Prometheus Grafana Zipkin ELK . Minimum 7  preferably scale environments Strong leadership mentor coach developers A strong use cases As features products learning teaching required Excellent written verbal communication must 400\n",
      "BS/BA degree equivalent Advanced application data infrastructure architecture disciplines Understanding architecture across systems Working proficiency developmental toolsets Knowledge industry wide technology trends best practices Ability large collaborative teams achieve organizational goals   passionate building innovative culture Proficiency one modern programming languages Understanding Business Functional Specifications Understanding existing program logic Providing / agreeing estimates required development Creation/ update Detailed Design Specifications Program Specifications program Version Control documentation Coding new programs changes existing programs Get code reviewed leads SME Creation Unit Test Plans execution Unit Tests Preparation execution Systems Test Plans Scripts Providing technical support Quality Assurance (QA) Testing Providing technical support User Acceptance Testing Creation Implementation/ Back Plans Support Handover Documents Providing technical support Production Implementations  post-implementation support implementation warranty period Experience working Eclipse / Maven environments Demonstrate Junit unit testing Hand fine tuning application response / performance testing Experience Web Services Experience Mule MQ / JMS (message transfer process) Experience version control tool GIT Understanding banking risk compliance policies Experience code scanning tools like black duck tools like Sonar Knowledge Microsoft Project Word Excel applications Experience development financial applications including financial transaction processing settlement accounting Familiarity SWIFT (Society Worldwide Interbank Financial Telecommunication) Message formats 401\n",
      "BS/BA degree equivalent Advanced application data infrastructure architecture disciplines Understanding architecture across systems Working proficiency developmental toolsets Knowledge industry wide technology trends best practices Ability large collaborative teams achieve organizational goals   passionate building innovative culture Proficiency one modern programming languages Understanding Business Functional Specifications Understanding existing program logic Providing / agreeing estimates required development Creation/ update Detailed Design Specifications Program Specifications program Version Control documentation Coding new programs changes existing programs Get code reviewed leads SME Creation Unit Test Plans execution Unit Tests Preparation execution Systems Test Plans Scripts Providing technical support Quality Assurance (QA) Testing Providing technical support User Acceptance Testing Creation Implementation/ Back Plans Support Handover Documents Providing technical support Production Implementations  post-implementation support implementation warranty period Experience working Eclipse / Maven environments Demonstrate Junit unit testing Hand fine tuning application response / performance testing Experience Web Services Experience Mule MQ / JMS (message transfer process) Experience version control tool GIT Understanding banking risk compliance policies Experience code scanning tools like black duck tools like Sonar Knowledge Microsoft Project Word Excel applications Experience development financial applications including financial transaction processing settlement accounting Familiarity SWIFT (Society Worldwide Interbank Financial Telecommunication) Message formats 402\n",
      "BS/BA degree equivalent Advanced application data infrastructure architecture disciplines Understanding architecture across systems Working proficiency developmental toolsets Knowledge industry wide technology trends best practices Ability large collaborative teams achieve organizational goals   passionate building innovative culture Proficiency one modern programming languages Understanding Business Functional Specifications Understanding existing program logic Providing / agreeing estimates required development Creation/ update Detailed Design Specifications Program Specifications program Version Control documentation Coding new programs changes existing programs Get code reviewed leads SME Creation Unit Test Plans execution Unit Tests Preparation execution Systems Test Plans Scripts Providing technical support Quality Assurance (QA) Testing Providing technical support User Acceptance Testing Creation Implementation/ Back Plans Support Handover Documents Providing technical support Production Implementations  post-implementation support implementation warranty period Experience working Eclipse / Maven environments Demonstrate Junit unit testing Hand fine tuning application response / performance testing Experience Web Services Experience Mule MQ / JMS (message transfer process) Experience version control tool GIT Understanding banking risk compliance policies Experience code scanning tools like black duck tools like Sonar Knowledge Microsoft Project Word Excel applications Experience development financial applications including financial transaction processing settlement accounting Familiarity SWIFT (Society Worldwide Interbank Financial Telecommunication) Message formats 403\n",
      "BS/BA degree equivalent Advanced application data infrastructure architecture disciplines Understanding architecture across systems Working proficiency developmental toolsets Knowledge industry wide technology trends best practices Ability large collaborative teams achieve organizational goals   passionate building innovative culture Proficiency one modern programming languages Understanding Business Functional Specifications Understanding existing program logic Providing / agreeing estimates required development Creation/ update Detailed Design Specifications Program Specifications program Version Control documentation Coding new programs changes existing programs Get code reviewed leads SME Creation Unit Test Plans execution Unit Tests Preparation execution Systems Test Plans Scripts Providing technical support Quality Assurance (QA) Testing Providing technical support User Acceptance Testing Creation Implementation/ Back Plans Support Handover Documents Providing technical support Production Implementations  post-implementation support implementation warranty period Experience working Eclipse / Maven environments Demonstrate Junit unit testing Hand fine tuning application response / performance testing Experience Web Services Experience Mule MQ / JMS (message transfer process) Experience version control tool GIT Understanding banking risk compliance policies Experience code scanning tools like black duck tools like Sonar Knowledge Microsoft Project Word Excel applications Experience development financial applications including financial transaction processing settlement accounting Familiarity SWIFT (Society Worldwide Interbank Financial Telecommunication) Message formats 404\n",
      "Frontend Backend development GUIs results Scanner technologies. Ability platforms based use-cases. Work closely Cloud Engineers map regarding deployment GUIs Cloud web applications. Co- Data Scientists System Integrators develop REST APIs trained Machine Learning models allow integration models GUIs. Make Sure established GUI low latency - . Design GUIs client-friendly understanding client point view. A Bachelor / Master degree Computer Science Information Engineering & familiarity. Need excellent understanding computer science data structures algorithms. Knowledge OOP language like Python Java C++. Passion code discover new things Understanding working Django framework. Expertise CSS / Python / JAVAScript / HTML /  REST APIs version control GitHub. Knowledge -friendly UIs. Experience software development life-cycle DevOps. Experience AWS services data storage retrieval basic SQL. 406\n",
      "Required     collaborate members one multiple Lines Business involved     Datacenter Responsible      project       actual Go Live event. BS/BA degree equivalent Advanced risk management Experience Advanced architecture business processes Exceptional abilities promote culture excellence Ability communicate drive Expertise customer needs customer. Drives Performance  Recruit reviews collaborate - Effectively collaborate Peer group identify best practices support . Provide . Emphasis potential capabilities productivity performance. Proactively process ideas improvement enhancement. Minimum 5 information technology management Experience . Minimum 2 working Technology Business Continuity Planning/Disaster Recovery role Broad across Mainframe Midrange Distributed Systems Networks Expert risk standard 407\n",
      "Strong / - Java/Web      frameworks Java/JEE Python Familiarity database      MariaDB MySQL NoSQL Able       Knowledge different       languages Experience Robotics      automation strong understanding Big data / machine learning       Create technical      documentation reporting 408\n",
      "Develops Smart IT system designing developing Determines development Develops users processes Documents Prepares solutions like Ansible Bachelor / Master degree Computer Science Computer Engineering Electric Engineering Mechanical Engineering fields 3+ development Understanding best practices software development code reviews (github) (Continuous Integration & Continuous Development) Expert Python/Java/C++ language Experience Linux Containers Experience Server / Web / App frameworks AI / Machine Learning / Data Mining plus 410\n",
      "Understand depth architecture 5G IOT platforms deploy platform . Drive Mentor development teams deliver . Contribute technology 5G/IOT platforms applications. Focus API big data machine - data storage/retrieval. Design 5G apps deployments 5G apps platform Co-develop 5G applications partners /experiments internal R&D /experiments. Participate advise - . Participate full SaaS deployment management Contribute technical thought leadership SingTel 5G/IOT leverage IoT big data management Security/privacy AI/ML components . Evangelize platform use within SingTel lead solution applications platform. Interact customers understand needs back development teams roadmap. Participate conversations . Participate lead approach. 412\n",
      "Degree Computer Science Information Technology Engineering Strong development Python C++ Golang Familiar working Linux environment public cloud Experience frameworks like TensorFlow Keras PyTorch Caffe2 / MXNet computer object tracking Understanding deep concepts impact latency cost Problem solver detail strong analytical Team player communication time management independently. Experience production. Work closely various development intelligence use cases Develop software Carry research area artificial intelligence machine learning deep learning Analyse research develop improve performance learning models Develop tools machine Engage scope solutions Ensure schedule standards members cycle project. 418\n",
      "Develop      software management & analytic. Develop      software system      software development & . Manage       code review QA/QC. Streamline       testing system Develop      software system software      development & Develop       service infrastructure       . Min. Bachelor Degree Computer Engineer / Engineer       relevant field. Interest robotics field. Experience development plus Experience setting DevOps CI/CD pipeline Docker Experience designing implementation services Experience Python Javascript Typescript SQL Linux Bash scripting Git HTML      Java ObjectiveC Swift Experience plus Experience Agile development process & remote management. 421\n",
      "Build including limited statistical optimization. Partner researchers across ICES A*STAR identify opportunities application process modeling risk -making material (eg. catalyst) process development. Develop opportunities plans development. Identify process development scale- . Build models (MPC) control. Perform experiments optimize . Collaborate researchers create equipment models process techniques. Collaborate researchers designing / Act project teams application process modeling support catalyst chemistry/process development. Collaborate others proposals reports . PhD Masters Chemical Engineering Chemistry Material Science domain  (Experience 2-5 (PhD) 5+ (Masters)) Excellent control including: modeling simulation. Experience modeling creation models relevant frameworks validation Excellent prediction . gPROMs CFD Pyomo AspenOne Dynochem Matlab/Simulink Statistical methods . Knowledge programming languages platforms R Python JAVA C++ Python .NET SQL. Experience Basic Process Control Advanced Process Control PLC/DCS configuration architecture preferred. Working artificial including Artificial Neural Networks (ANNs) Genetic Algorithms (GAs) Swarm Intelligence Multi-objective Optimizations Fuzzy Logic Systems Good chemistry desirable Excellent communication oral written Flexibility demands responsibilities Ability plan/ tasks high documentation Ability efficiently multi- - 423\n",
      "Degree Electrical / Mechanical / Computer / System Engineering  Passionate technology innovation Good analytical problem-solving Strong interpersonal  Enjoy 424\n",
      "Developing statistical models required company. Building production- pipelines docker AWS . Developing databases amounts information. A Bachelor degree Master degree PhD Bioinformatics/ Computational Biology/ Artificial Intelligence/ Computer Science equivalent. Experience algorithms . Strong proficiency programming (Python R Unix ). A understanding statistics. Strong self- mind real- problems. 425\n",
      "Communicate matter experts (SME) businesses required   Design SimplifyNext best practices.  Develop solutions accordance SimplifyNext best practices .  Identify support creation cases/ used process.  Conduct testing phases SME businesses ensuring solution requirements.  Good Bachelor Degree preferably Computer Engineering  Excellent communications inter-personal passion   Candidates prior welcome apply 426\n",
      "publications material fields may new programming language model- reading ( / relevant) . document research ( presenting PI) materials publication - share . learning IDEs process programming languages systems infrastructure program management software documentation user/developer- support users customers  presentations project user- throughout full stack 429\n",
      "Artificial Intelligence  Computational Biology  Database  Media  Programming Languages & Software Engineering  Security Systems Networking  A Bachelor degree Honours   Experience research. 432\n",
      "Able   ( Lumerical Zemax Comsol)   devices achieve  direction Able   write methodology  platforms Discussion   academic  Agritech safety PhD   Engineering Applied Physics disciplines   simulations modelling Experience   devices designs Some   Agritech AI Highly   possess critical thinking   Demonstrates   teamwork Able   well project teams actively  sharing ideas achieve Good  communication 434\n",
      "Development data sensors perception   Extract - strategies Create sensors.  Combine sensor data representation sensor fusion solutions Pushing terms scenarios features Min Degree Electrical / Electronic Engineering Computer Science Equivalent Background Artificial Intelligence technologies (Deep Learning) required. Strong Experience C++ Python required Knowledge - raw data vision sensor fusion e. g. Hands learning computer vision sensor data Experience GPU programming Knowledge Robot Operating System (ROS) 435\n",
      "Ensure monitoring Aviva Singapore within Company Market Conduct Risk. Support implementation Compliance plan monitor ensure responsibility enable monitor business regulations. Support Head Compliance Management risk . Support Head Compliance reporting Management. Responsible implementation function Fair Dealing Outcomes: Ensure Fair Dealing Outcomes one delivering outcomes applicable role. Review update Compliance Policies Market Conduct BSC framework Conduct regular Compliance workshops functions. Advise new existing BSC Market Conduct regulations. Perform analysis follow- . Improve investigation BSC review. Handle Work Quantum ( artificial intelligence) models risk . Review monitor quality non- Assist preparation / reports required Group. Other ad- duties assigned. Develop reporting Prepare reports management Relevant lead Familiar Bachelor degree business finance Detail Oriented Familiar 436\n",
      "Mapping matrix IT- courses Identify enhancement towards Industry 4.0 Prepare & Implement activities terms Conduct assist activities Upkeep equipment Any ad- projects assigned. Engineering Degree Computer Science IT Electronics Electrical Mechatronics Minimum 3  5 industry automation . Engineering Diploma field studies welcome apply Good must Preparation must Vast control Computer Science IT Electrical Electronics Mechatronics Engineering Good industry- WSQ Advanced Certificate Training Assessment (ACTA) Certification Open within region Willingness required 439\n",
      "Provide technical expertise define support delivery functional technical      capabilities application suite applications. Contribute components. Participate concepts -functional requirements. Contribute creation quality . Build processes operations . Good . Help clients business problems responsibilities analysis situations - Understand network infrastructure build Provide solutions (Cloud Native API Microservices DevOps) within Digital Architecture practice Minimum 10 Digital Architecture domains  Integration Cloud Native API Microservices Security DevOps automation Experience SOA implementation system integration SOA Experience Cloud  AWS GCP Azure Experience Mobility IOT Knowledge large- system Knowledge emerging technologies/platforms Mobility Analytics Cloud Social -initiative keep Digital trends Communicates well. Strong value proposals business development Experience working Agile Continuous Integration/Continuous Delivery methodologies Cloud Infrastructure Amazon Web Services DevOps Infrastructure Architecture Design Cloud Computing Microservices BI Analytics Middleware 442\n",
      "Develop lead process. Design develop test cloud - services. Provide leadership automation business solution . Understand practice source methodology application control. Lead/contribute developer . Design test infrastructure. Build maintain standards. Understand use support build software packages applications deployment QA pre-production . Ensure policies processes followed build levels application development teams. Drive adoption best practices testing . Automate . Develop delivery. Analyze systems collaborate cross-functional teams influence . Manage Continuous Integration/Continuous Delivery (CI/CD) tools. qualifications Bachelor degree Computer Science field. 4+ software development roles 2 professional education software . Proficiency one general purpose programming limited : Java C/C++ C# Objective C Python JavaScript Go. Proficiency build code (GIT Github Jenkins). Experience code. Experience SCM development teams. Experience Enterprise- system programming Git VSTS ClearCase ClearQuest JIRA management. Experience tools languages processes plus Perl Python PowerShell. Prior startup entrepreneurial would bonus. Bachelor degree Computer Science field. 4+ software development roles 2 professional education software . Proficiency one general purpose programming limited : Java C/C++ C# Objective C Python JavaScript Go. Proficiency build code (GIT Github Jenkins). Experience code. Experience SCM development teams. Experience Enterprise- system programming Git VSTS ClearCase ClearQuest JIRA management. Experience tools languages processes plus Perl Python PowerShell. Prior startup entrepreneurial would bonus. 446\n",
      "Manage project supervisor well capacity Ensure delivery appropriately Build long- clients Shape clients follow / expectations Paricipate SimplifyNext methodology standards Identify opportunities SimplifyNext Contribute setting Technology SimplifyNext Bachelor Degree 5 8  consulting Excellent communications inter-personal passion Proficient VB.NET / C# understanding object-oriented programming Development Lead / Development Experience debugging Strong approach problem-solving Experience managing 447\n",
      "Artificial Intelligence Systems Physics  systems Language processing systems Computer   video data   Masters/ Bachelor degree Computer Science /  Computer Engineering / Electrical Engineering / Information Technology /  Mathematics / Physics disciplines. Proficiency software   data frameworks Java C++  Python SQL. Possesses details   solving learn proficiency   . Ability responsibility planning   tasks part . 450\n",
      "Manage Medium Large scale projects Managing Strategic Initiatives aspects project management testing implementation tracking discipline timeline. Develop prepare Management Information reports stakeholders making. Managing relationships coordination within project .  Procure support department IT Finance success project As assigned order / University Degree equivalent At 5 project management IT Experience scale projects Experience Artificial Intelligence offerings Experience insurance financial industry PMP Prince2 451\n",
      "Manage Medium Large scale projects Managing Strategic Initiatives aspects project management testing implementation tracking discipline timeline. Develop prepare Management Information reports stakeholders making. Managing relationships coordination within project .  Procure support department IT Finance success project As assigned order / University Degree equivalent At 5 project management IT Experience scale projects Experience Artificial Intelligence offerings Experience insurance financial industry PMP Prince2 452\n"
     ]
    }
   ],
   "source": [
    "for i in range (len(data_df2['Requirements'])):\n",
    "    if (isEnglish(data_df2['Requirements'][i]) == False):\n",
    "        print(data_df2['Requirements'][i], i)"
   ]
  },
  {
   "cell_type": "code",
   "execution_count": null,
   "metadata": {},
   "outputs": [],
   "source": []
  },
  {
   "cell_type": "code",
   "execution_count": null,
   "metadata": {},
   "outputs": [],
   "source": []
  },
  {
   "cell_type": "markdown",
   "metadata": {},
   "source": [
    "## Machine Learning"
   ]
  },
  {
   "cell_type": "code",
   "execution_count": null,
   "metadata": {},
   "outputs": [],
   "source": [
    "#Dummified Seniority columns to use as predictor features\n",
    "seniority_cat=data_df['Seniority'].str.get_dummies()\n",
    "salary_cat=data_df['Salary_range'].str.get_dummies()\n",
    "df = pd.concat([data_df, seniority_cat, salary_cat], axis=1)"
   ]
  },
  {
   "cell_type": "code",
   "execution_count": null,
   "metadata": {},
   "outputs": [],
   "source": [
    "#CountVectorizer job requirements columns\n",
    "stop = stopwords.words('english')\n",
    "\n",
    "cvec = CountVectorizer(lowercase=True, strip_accents='unicode',\n",
    "                       max_features=1500, min_df=5, max_df=0.7, \n",
    "                       stop_words=stop,ngram_range=(2,3))\n",
    "cvec.fit(df['Requirements'])"
   ]
  },
  {
   "cell_type": "code",
   "execution_count": null,
   "metadata": {},
   "outputs": [],
   "source": [
    "df.head(1)"
   ]
  },
  {
   "cell_type": "code",
   "execution_count": null,
   "metadata": {},
   "outputs": [],
   "source": [
    "#creating predictor and target dataset\n",
    "model_data = df.drop(columns=['Job_Title','Company','Seniority','Category','Min_Salary',\n",
    "                               'Max_Salary','Emp_Type','Avg_Salary', 'Job_Id', 'Date_Posted'])\n",
    "\n",
    "nlp = pd.DataFrame(cvec.transform(model_data['Requirements']).todense(),columns=cvec.get_feature_names())\n",
    "\n",
    "senior_nlp = pd.concat([model_data, nlp], axis=1)"
   ]
  },
  {
   "cell_type": "code",
   "execution_count": null,
   "metadata": {},
   "outputs": [],
   "source": [
    "X = senior_nlp.drop(columns=['Salary_range','Requirements'])\n",
    "X_nlp = nlp\n",
    "y = senior_nlp['Salary_range'].values\n",
    "X.shape"
   ]
  },
  {
   "cell_type": "code",
   "execution_count": null,
   "metadata": {},
   "outputs": [],
   "source": [
    "#Data with dummified 'seniority' and countvectorized 'requirements'\n",
    "X_train, X_test, y_train, y_test = train_test_split(X, y, test_size=0.3, random_state=42)"
   ]
  },
  {
   "cell_type": "code",
   "execution_count": null,
   "metadata": {},
   "outputs": [],
   "source": [
    "#Data with countvectorized 'requirements' only\n",
    "X_train_nlp, X_test_nlp, y_train_nlp, y_test_nlp = train_test_split(X_nlp, y, test_size=0.3, random_state=42)"
   ]
  },
  {
   "cell_type": "code",
   "execution_count": null,
   "metadata": {},
   "outputs": [],
   "source": [
    "from sklearn.tree import DecisionTreeClassifier"
   ]
  },
  {
   "cell_type": "code",
   "execution_count": null,
   "metadata": {},
   "outputs": [],
   "source": [
    "dtc = DecisionTreeClassifier(max_depth=4, random_state=42)\n",
    "dtc = dtc.fit(X_train , y_train)\n",
    "\n",
    "dtc1 = DecisionTreeClassifier(max_depth=4, random_state=42)\n",
    "dtc_nlp = dtc1.fit(X_train_nlp , y_train_nlp)"
   ]
  },
  {
   "cell_type": "code",
   "execution_count": null,
   "metadata": {},
   "outputs": [],
   "source": [
    "print(classification_report(y_test,dtc.predict(X_test),target_names=[\"Low\", \"Med\", \"High\"]))"
   ]
  },
  {
   "cell_type": "code",
   "execution_count": null,
   "metadata": {},
   "outputs": [],
   "source": [
    "pd.DataFrame(confusion_matrix(y_test,dtc.predict(X_test)),\n",
    "             index=['Actual Low','Actual Med', 'Actual High'],\n",
    "             columns=['Pred Low','Pred Med','Pred High'])"
   ]
  },
  {
   "cell_type": "code",
   "execution_count": null,
   "metadata": {},
   "outputs": [],
   "source": [
    "print(classification_report(y_test_nlp,dtc_nlp.predict(X_test_nlp),target_names=[\"Low\", \"Med\", \"High\"]))"
   ]
  },
  {
   "cell_type": "code",
   "execution_count": null,
   "metadata": {},
   "outputs": [],
   "source": [
    "pd.DataFrame(confusion_matrix(y_test_nlp,dtc_nlp.predict(X_test_nlp)),\n",
    "             index=['Actual Low','Actual Med', 'Actual High'],\n",
    "             columns=['Pred Low','Pred Med','Pred High'])"
   ]
  },
  {
   "cell_type": "code",
   "execution_count": null,
   "metadata": {},
   "outputs": [],
   "source": []
  }
 ],
 "metadata": {
  "kernelspec": {
   "display_name": "Python 3",
   "language": "python",
   "name": "python3"
  },
  "language_info": {
   "codemirror_mode": {
    "name": "ipython",
    "version": 3
   },
   "file_extension": ".py",
   "mimetype": "text/x-python",
   "name": "python",
   "nbconvert_exporter": "python",
   "pygments_lexer": "ipython3",
   "version": "3.7.6"
  }
 },
 "nbformat": 4,
 "nbformat_minor": 4
}
